{
 "cells": [
  {
   "cell_type": "code",
   "execution_count": 3,
   "metadata": {},
   "outputs": [],
   "source": [
    "# data wrangling and linear algebra\n",
    "import pandas as pd\n",
    "import numpy as np\n",
    "import pandas_ta as ta\n",
    "\n",
    "# data visualisation\n",
    "import matplotlib.pyplot as plt\n",
    "import plotly.express as px\n",
    "import seaborn as sns\n",
    "import matplotlib\n",
    "\n",
    "# metrics\n",
    "from sklearn import metrics\n",
    "from sklearn import preprocessing\n",
    "\n",
    "# yahoo finance api\n",
    "import yfinance as yf\n",
    "\n",
    "# statistical tests\n",
    "from statsmodels.tsa.stattools import kpss\n",
    "from statsmodels.tsa.stattools import adfuller\n",
    "\n",
    "# framework\n",
    "import tensorflow as tf\n",
    "from tensorflow.keras import layers, models\n",
    "\n",
    "# misc\n",
    "import warnings\n",
    "import os\n",
    "\n",
    "\n",
    "warnings.filterwarnings(action='ignore')\n",
    "pd.set_option('display.max_rows',500)\n",
    "matplotlib.rcParams['figure.figsize']  = (12,8)"
   ]
  },
  {
   "cell_type": "code",
   "execution_count": 6,
   "metadata": {},
   "outputs": [],
   "source": [
    "# get netflix stock data\n",
    "stock = yf.Ticker('MSFT')"
   ]
  },
  {
   "cell_type": "code",
   "execution_count": 7,
   "metadata": {},
   "outputs": [
    {
     "data": {
      "text/html": [
       "<div>\n",
       "<style scoped>\n",
       "    .dataframe tbody tr th:only-of-type {\n",
       "        vertical-align: middle;\n",
       "    }\n",
       "\n",
       "    .dataframe tbody tr th {\n",
       "        vertical-align: top;\n",
       "    }\n",
       "\n",
       "    .dataframe thead th {\n",
       "        text-align: right;\n",
       "    }\n",
       "</style>\n",
       "<table border=\"1\" class=\"dataframe\">\n",
       "  <thead>\n",
       "    <tr style=\"text-align: right;\">\n",
       "      <th></th>\n",
       "      <th>Open</th>\n",
       "      <th>High</th>\n",
       "      <th>Low</th>\n",
       "      <th>Close</th>\n",
       "      <th>Volume</th>\n",
       "      <th>Dividends</th>\n",
       "      <th>Stock Splits</th>\n",
       "    </tr>\n",
       "    <tr>\n",
       "      <th>Date</th>\n",
       "      <th></th>\n",
       "      <th></th>\n",
       "      <th></th>\n",
       "      <th></th>\n",
       "      <th></th>\n",
       "      <th></th>\n",
       "      <th></th>\n",
       "    </tr>\n",
       "  </thead>\n",
       "  <tbody>\n",
       "    <tr>\n",
       "      <th>2010-08-02</th>\n",
       "      <td>20.48</td>\n",
       "      <td>20.79</td>\n",
       "      <td>20.29</td>\n",
       "      <td>20.75</td>\n",
       "      <td>55044600</td>\n",
       "      <td>0.0</td>\n",
       "      <td>0</td>\n",
       "    </tr>\n",
       "    <tr>\n",
       "      <th>2010-08-03</th>\n",
       "      <td>20.65</td>\n",
       "      <td>20.77</td>\n",
       "      <td>20.47</td>\n",
       "      <td>20.62</td>\n",
       "      <td>56877700</td>\n",
       "      <td>0.0</td>\n",
       "      <td>0</td>\n",
       "    </tr>\n",
       "    <tr>\n",
       "      <th>2010-08-04</th>\n",
       "      <td>20.61</td>\n",
       "      <td>20.68</td>\n",
       "      <td>20.05</td>\n",
       "      <td>20.28</td>\n",
       "      <td>78531900</td>\n",
       "      <td>0.0</td>\n",
       "      <td>0</td>\n",
       "    </tr>\n",
       "    <tr>\n",
       "      <th>2010-08-05</th>\n",
       "      <td>20.09</td>\n",
       "      <td>20.16</td>\n",
       "      <td>19.87</td>\n",
       "      <td>19.99</td>\n",
       "      <td>64922100</td>\n",
       "      <td>0.0</td>\n",
       "      <td>0</td>\n",
       "    </tr>\n",
       "    <tr>\n",
       "      <th>2010-08-06</th>\n",
       "      <td>19.84</td>\n",
       "      <td>20.14</td>\n",
       "      <td>19.72</td>\n",
       "      <td>20.14</td>\n",
       "      <td>55982100</td>\n",
       "      <td>0.0</td>\n",
       "      <td>0</td>\n",
       "    </tr>\n",
       "    <tr>\n",
       "      <th>...</th>\n",
       "      <td>...</td>\n",
       "      <td>...</td>\n",
       "      <td>...</td>\n",
       "      <td>...</td>\n",
       "      <td>...</td>\n",
       "      <td>...</td>\n",
       "      <td>...</td>\n",
       "    </tr>\n",
       "    <tr>\n",
       "      <th>2020-07-24</th>\n",
       "      <td>199.94</td>\n",
       "      <td>202.37</td>\n",
       "      <td>197.03</td>\n",
       "      <td>200.81</td>\n",
       "      <td>39827000</td>\n",
       "      <td>0.0</td>\n",
       "      <td>0</td>\n",
       "    </tr>\n",
       "    <tr>\n",
       "      <th>2020-07-27</th>\n",
       "      <td>200.98</td>\n",
       "      <td>203.48</td>\n",
       "      <td>200.38</td>\n",
       "      <td>203.36</td>\n",
       "      <td>30160900</td>\n",
       "      <td>0.0</td>\n",
       "      <td>0</td>\n",
       "    </tr>\n",
       "    <tr>\n",
       "      <th>2020-07-28</th>\n",
       "      <td>203.12</td>\n",
       "      <td>204.21</td>\n",
       "      <td>201.25</td>\n",
       "      <td>201.53</td>\n",
       "      <td>23251400</td>\n",
       "      <td>0.0</td>\n",
       "      <td>0</td>\n",
       "    </tr>\n",
       "    <tr>\n",
       "      <th>2020-07-29</th>\n",
       "      <td>202.01</td>\n",
       "      <td>204.16</td>\n",
       "      <td>201.52</td>\n",
       "      <td>203.57</td>\n",
       "      <td>19632600</td>\n",
       "      <td>0.0</td>\n",
       "      <td>0</td>\n",
       "    </tr>\n",
       "    <tr>\n",
       "      <th>2020-07-30</th>\n",
       "      <td>200.52</td>\n",
       "      <td>203.97</td>\n",
       "      <td>199.09</td>\n",
       "      <td>203.41</td>\n",
       "      <td>25079600</td>\n",
       "      <td>0.0</td>\n",
       "      <td>0</td>\n",
       "    </tr>\n",
       "  </tbody>\n",
       "</table>\n",
       "<p>2517 rows × 7 columns</p>\n",
       "</div>"
      ],
      "text/plain": [
       "              Open    High     Low   Close    Volume  Dividends  Stock Splits\n",
       "Date                                                                         \n",
       "2010-08-02   20.48   20.79   20.29   20.75  55044600        0.0             0\n",
       "2010-08-03   20.65   20.77   20.47   20.62  56877700        0.0             0\n",
       "2010-08-04   20.61   20.68   20.05   20.28  78531900        0.0             0\n",
       "2010-08-05   20.09   20.16   19.87   19.99  64922100        0.0             0\n",
       "2010-08-06   19.84   20.14   19.72   20.14  55982100        0.0             0\n",
       "...            ...     ...     ...     ...       ...        ...           ...\n",
       "2020-07-24  199.94  202.37  197.03  200.81  39827000        0.0             0\n",
       "2020-07-27  200.98  203.48  200.38  203.36  30160900        0.0             0\n",
       "2020-07-28  203.12  204.21  201.25  201.53  23251400        0.0             0\n",
       "2020-07-29  202.01  204.16  201.52  203.57  19632600        0.0             0\n",
       "2020-07-30  200.52  203.97  199.09  203.41  25079600        0.0             0\n",
       "\n",
       "[2517 rows x 7 columns]"
      ]
     },
     "execution_count": 7,
     "metadata": {},
     "output_type": "execute_result"
    }
   ],
   "source": [
    "# get historical market data\n",
    "hist = stock.history(start = '2010-08-01', end = '2020-07-31', period = '1d')\n",
    "hist"
   ]
  },
  {
   "cell_type": "code",
   "execution_count": 8,
   "metadata": {},
   "outputs": [],
   "source": [
    "# droppping stock splits and dividends\n",
    "hist.drop(['Dividends', 'Stock Splits'], axis = 1, inplace=True)\n",
    "hist.columns =  ['open', 'high', 'low', 'close', 'volume']"
   ]
  },
  {
   "cell_type": "code",
   "execution_count": 9,
   "metadata": {},
   "outputs": [
    {
     "data": {
      "image/png": "[encoded data removed]",
      "text/plain": [
       "<Figure size 864x576 with 1 Axes>"
      ]
     },
     "metadata": {
      "needs_background": "light"
     },
     "output_type": "display_data"
    }
   ],
   "source": [
    "hist.drop('volume', axis = 1).plot(grid = True)\n",
    "plt.show()"
   ]
  },
  {
   "cell_type": "code",
   "execution_count": 10,
   "metadata": {},
   "outputs": [],
   "source": [
    "def Calculate_EMA(df, col, exp_moving_average, alpha = 0.7):\n",
    "    \"\"\"\n",
    "    Calculates exponential moving averages and appends to the series data frame.\n",
    "    \n",
    "    :param df: dataframe containing the time series (pandas dataframe)\n",
    "    :parma col: the column for which moving averages to be calculated (str)\n",
    "    :param moving_average: moving average windows (list of integers)\n",
    "    \n",
    "    returns: dataframe with moving averages computed\n",
    "    \"\"\"\n",
    "    df = df.copy()\n",
    "    for ema in exp_moving_average:\n",
    "        df[str(ema)+'EMA'] = df[col].ewm(min_periods = ema, alpha = alpha, adjust = False).mean().shift(1)\n",
    "    \n",
    "    return df\n",
    "    "
   ]
  },
  {
   "cell_type": "code",
   "execution_count": 11,
   "metadata": {},
   "outputs": [],
   "source": [
    "hist = Calculate_EMA(hist, 'close', [10, 30, 50, 100], alpha = 0.7).dropna()"
   ]
  },
  {
   "cell_type": "code",
   "execution_count": 12,
   "metadata": {},
   "outputs": [],
   "source": [
    "# scaler \n",
    "scaler = preprocessing.StandardScaler()\n",
    "#scaler = preprocessing.MinMaxScaler()"
   ]
  },
  {
   "cell_type": "code",
   "execution_count": 13,
   "metadata": {},
   "outputs": [],
   "source": [
    "def create_dataset(data, window_size = 50):\n",
    "    data = data.copy()\n",
    "    x = []\n",
    "    y = []\n",
    "    closep = data['close'].values\n",
    "    for time in range(len(data)-window_size):\n",
    "        window_data = data.iloc[time:time+window_size-1,:]\n",
    "        normalised_window = []\n",
    "        for col in range(data.shape[1]):\n",
    "            #norm_col = ((window_data.iloc[:,col] - window_data.iloc[0,col])/(window_data.iloc[0,col])).values\n",
    "            norm_col = scaler.fit_transform(window_data.iloc[:,col].values.reshape(-1,1)).flatten()\n",
    "            normalised_window.append(norm_col)\n",
    "        normalised_window = np.array(normalised_window).T\n",
    "        x.append(normalised_window)\n",
    "        \n",
    "        close_w = closep[time:time+window_size]\n",
    "        prev_close = close_w[-2]\n",
    "        next_close = close_w[-1]\n",
    "        \n",
    "        if next_close > prev_close:\n",
    "            y.append(1)\n",
    "        else:\n",
    "            y.append(0)\n",
    "           \n",
    "    return np.array(x), np.array(y)"
   ]
  },
  {
   "cell_type": "markdown",
   "metadata": {},
   "source": [
    "def split_data(df, split_time):\n",
    "    split_index = len(hist.loc[hist.index < split_time])\n",
    "    train_data = hist.iloc[:split_index]\n",
    "    val_data = hist.iloc[split_index:]\n",
    "    \n",
    "    return split_index, train_data, val_data\n",
    "\n",
    "split_index, train_data, val_data = split_data(hist, '2019-01-01')"
   ]
  },
  {
   "cell_type": "markdown",
   "metadata": {},
   "source": [
    "pd.concat([train_data['close'], val_data['close']], axis = 1).plot(grid = True)\n",
    "plt.legend(['Train', 'Valid'])\n",
    "plt.show()"
   ]
  },
  {
   "cell_type": "code",
   "execution_count": 14,
   "metadata": {},
   "outputs": [],
   "source": [
    "def shuffle_in_unison(a, b):\n",
    "    # courtsey http://stackoverflow.com/users/190280/josh-bleecher-snyder\n",
    "    assert len(a) == len(b)\n",
    "    shuffled_a = np.empty(a.shape, dtype=a.dtype)\n",
    "    shuffled_b = np.empty(b.shape, dtype=b.dtype)\n",
    "    permutation = np.random.permutation(len(a))\n",
    "    for old_index, new_index in enumerate(permutation):\n",
    "        shuffled_a[new_index] = a[old_index]\n",
    "        shuffled_b[new_index] = b[old_index]\n",
    "    return shuffled_a, shuffled_b\n",
    " \n",
    " \n",
    "def create_Xt_Yt(X, y, percentage=0.9):\n",
    "    p = int(len(X) * percentage)\n",
    "    X_train = X[0:p]\n",
    "    Y_train = y[0:p]\n",
    "     \n",
    "   # X_train, Y_train = shuffle_in_unison(X_train, Y_train)\n",
    " \n",
    "    X_test = X[p:]\n",
    "    Y_test = y[p:]\n",
    "\n",
    "    return X_train, X_test, Y_train, Y_test\n"
   ]
  },
  {
   "cell_type": "code",
   "execution_count": 15,
   "metadata": {},
   "outputs": [],
   "source": [
    "# params\n",
    "window_size = 31\n",
    "batch_size = 32\n",
    "epochs = 100\n",
    "shuffle_buffer = 1000"
   ]
  },
  {
   "cell_type": "code",
   "execution_count": 16,
   "metadata": {},
   "outputs": [
    {
     "name": "stdout",
     "output_type": "stream",
     "text": [
      "(2386, 30, 9) (2386,)\n"
     ]
    }
   ],
   "source": [
    "X,Y = create_dataset(hist, window_size = window_size)\n",
    "print(X.shape, Y.shape)"
   ]
  },
  {
   "cell_type": "markdown",
   "metadata": {},
   "source": [
    "Code Source: https://github.com/Rachnog/Deep-Trading/blob/master/multivariate/utils.py"
   ]
  },
  {
   "cell_type": "code",
   "execution_count": 17,
   "metadata": {},
   "outputs": [],
   "source": [
    "X_train, X_val, y_train, y_val = create_Xt_Yt(X, Y, 0.8)"
   ]
  },
  {
   "cell_type": "code",
   "execution_count": 18,
   "metadata": {},
   "outputs": [
    {
     "name": "stdout",
     "output_type": "stream",
     "text": [
      "(1908, 30, 9) (478, 30, 9) (1908,) (478,)\n"
     ]
    }
   ],
   "source": [
    "print(X_train.shape, X_val.shape, y_train.shape, y_val.shape)"
   ]
  },
  {
   "cell_type": "code",
   "execution_count": 24,
   "metadata": {},
   "outputs": [
    {
     "name": "stdout",
     "output_type": "stream",
     "text": [
      "Model: \"sequential\"\n",
      "_________________________________________________________________\n",
      "Layer (type)                 Output Shape              Param #   \n",
      "=================================================================\n",
      "conv1d (Conv1D)              (None, 30, 16)            448       \n",
      "_________________________________________________________________\n",
      "batch_normalization (BatchNo (None, 30, 16)            64        \n",
      "_________________________________________________________________\n",
      "re_lu (ReLU)                 (None, 30, 16)            0         \n",
      "_________________________________________________________________\n",
      "dropout (Dropout)            (None, 30, 16)            0         \n",
      "_________________________________________________________________\n",
      "lstm (LSTM)                  (None, 50)                13400     \n",
      "_________________________________________________________________\n",
      "dropout_1 (Dropout)          (None, 50)                0         \n",
      "_________________________________________________________________\n",
      "dense (Dense)                (None, 50)                2550      \n",
      "_________________________________________________________________\n",
      "batch_normalization_1 (Batch (None, 50)                200       \n",
      "_________________________________________________________________\n",
      "re_lu_1 (ReLU)               (None, 50)                0         \n",
      "_________________________________________________________________\n",
      "dense_1 (Dense)              (None, 1)                 51        \n",
      "_________________________________________________________________\n",
      "activation (Activation)      (None, 1)                 0         \n",
      "=================================================================\n",
      "Total params: 16,713\n",
      "Trainable params: 16,581\n",
      "Non-trainable params: 132\n",
      "_________________________________________________________________\n"
     ]
    }
   ],
   "source": [
    "tf.keras.backend.clear_session()\n",
    "\n",
    "# model architecture\n",
    "\n",
    "model = models.Sequential()\n",
    "model.add(layers.Conv1D(16, 3, input_shape = [X.shape[1], X.shape[-1]], padding = 'same'))\n",
    "model.add(layers.BatchNormalization())\n",
    "model.add(layers.ReLU())\n",
    "model.add(layers.Dropout(0.5))\n",
    "\n",
    "\n",
    "\n",
    "\n",
    "model.add(layers.LSTM(50, return_sequences = False))\n",
    "model.add(layers.Dropout(0.3))\n",
    "\n",
    "model.add(layers.Dense(50))\n",
    "model.add(layers.BatchNormalization())\n",
    "model.add(layers.ReLU())\n",
    "\n",
    "\n",
    "model.add(layers.Dense(1))\n",
    "model.add(layers.Activation('sigmoid'))\n",
    "optimizer = tf.keras.optimizers.Adam(learning_rate = 0.0001)\n",
    "\n",
    "\n",
    "model.compile(loss = 'binary_crossentropy', optimizer = optimizer, metrics = ['accuracy'])\n",
    "model.summary()"
   ]
  },
  {
   "cell_type": "code",
   "execution_count": 25,
   "metadata": {},
   "outputs": [
    {
     "name": "stdout",
     "output_type": "stream",
     "text": [
      "Epoch 1/100\n",
      "60/60 [==============================] - 1s 11ms/step - loss: 0.7991 - accuracy: 0.5010 - val_loss: 0.7020 - val_accuracy: 0.4351\n",
      "Epoch 2/100\n",
      "60/60 [==============================] - 0s 6ms/step - loss: 0.7812 - accuracy: 0.5058 - val_loss: 0.6998 - val_accuracy: 0.4603\n",
      "Epoch 3/100\n",
      "60/60 [==============================] - 0s 6ms/step - loss: 0.7556 - accuracy: 0.4942 - val_loss: 0.7019 - val_accuracy: 0.4498\n",
      "Epoch 4/100\n",
      "60/60 [==============================] - 0s 6ms/step - loss: 0.7507 - accuracy: 0.5100 - val_loss: 0.7013 - val_accuracy: 0.4561\n",
      "Epoch 5/100\n",
      "60/60 [==============================] - 0s 6ms/step - loss: 0.7466 - accuracy: 0.4879 - val_loss: 0.6993 - val_accuracy: 0.4331\n",
      "Epoch 6/100\n",
      "60/60 [==============================] - 0s 6ms/step - loss: 0.7417 - accuracy: 0.4906 - val_loss: 0.6950 - val_accuracy: 0.4833\n",
      "Epoch 7/100\n",
      "60/60 [==============================] - 0s 7ms/step - loss: 0.7197 - accuracy: 0.5121 - val_loss: 0.6931 - val_accuracy: 0.5146\n",
      "Epoch 8/100\n",
      "60/60 [==============================] - 0s 6ms/step - loss: 0.7147 - accuracy: 0.5115 - val_loss: 0.6907 - val_accuracy: 0.5356\n",
      "Epoch 9/100\n",
      "60/60 [==============================] - 0s 6ms/step - loss: 0.7241 - accuracy: 0.4974 - val_loss: 0.6919 - val_accuracy: 0.5146\n",
      "Epoch 10/100\n",
      "60/60 [==============================] - 0s 6ms/step - loss: 0.7109 - accuracy: 0.5178 - val_loss: 0.6881 - val_accuracy: 0.5460\n",
      "Epoch 11/100\n",
      "60/60 [==============================] - 0s 6ms/step - loss: 0.7178 - accuracy: 0.4953 - val_loss: 0.6876 - val_accuracy: 0.5460\n",
      "Epoch 12/100\n",
      "60/60 [==============================] - 0s 6ms/step - loss: 0.7183 - accuracy: 0.5052 - val_loss: 0.6870 - val_accuracy: 0.5377\n",
      "Epoch 13/100\n",
      "60/60 [==============================] - 0s 6ms/step - loss: 0.7030 - accuracy: 0.5304 - val_loss: 0.6859 - val_accuracy: 0.5502\n",
      "Epoch 14/100\n",
      "60/60 [==============================] - 0s 6ms/step - loss: 0.7157 - accuracy: 0.4948 - val_loss: 0.6846 - val_accuracy: 0.5586\n",
      "Epoch 15/100\n",
      "60/60 [==============================] - 0s 6ms/step - loss: 0.7128 - accuracy: 0.4974 - val_loss: 0.6841 - val_accuracy: 0.5607\n",
      "Epoch 16/100\n",
      "60/60 [==============================] - 0s 6ms/step - loss: 0.7138 - accuracy: 0.5000 - val_loss: 0.6836 - val_accuracy: 0.5649\n",
      "Epoch 17/100\n",
      "60/60 [==============================] - 0s 6ms/step - loss: 0.7036 - accuracy: 0.5262 - val_loss: 0.6835 - val_accuracy: 0.5711\n",
      "Epoch 18/100\n",
      "60/60 [==============================] - 0s 6ms/step - loss: 0.7103 - accuracy: 0.4958 - val_loss: 0.6830 - val_accuracy: 0.5649\n",
      "Epoch 19/100\n",
      "60/60 [==============================] - 0s 6ms/step - loss: 0.7032 - accuracy: 0.5215 - val_loss: 0.6819 - val_accuracy: 0.5628\n",
      "Epoch 20/100\n",
      "60/60 [==============================] - 0s 6ms/step - loss: 0.7115 - accuracy: 0.4885 - val_loss: 0.6814 - val_accuracy: 0.5669\n",
      "Epoch 21/100\n",
      "60/60 [==============================] - 0s 6ms/step - loss: 0.7005 - accuracy: 0.5246 - val_loss: 0.6825 - val_accuracy: 0.5774\n",
      "Epoch 22/100\n",
      "60/60 [==============================] - 0s 6ms/step - loss: 0.7020 - accuracy: 0.5215 - val_loss: 0.6827 - val_accuracy: 0.5544\n",
      "Epoch 23/100\n",
      "60/60 [==============================] - 0s 6ms/step - loss: 0.7025 - accuracy: 0.5204 - val_loss: 0.6822 - val_accuracy: 0.5649\n",
      "Epoch 24/100\n",
      "60/60 [==============================] - 0s 6ms/step - loss: 0.7024 - accuracy: 0.5162 - val_loss: 0.6821 - val_accuracy: 0.5544\n",
      "Epoch 25/100\n",
      "60/60 [==============================] - 0s 6ms/step - loss: 0.7085 - accuracy: 0.4937 - val_loss: 0.6829 - val_accuracy: 0.5586\n",
      "Epoch 26/100\n",
      "60/60 [==============================] - 0s 6ms/step - loss: 0.7055 - accuracy: 0.4984 - val_loss: 0.6823 - val_accuracy: 0.5607\n",
      "Epoch 27/100\n",
      "60/60 [==============================] - 0s 6ms/step - loss: 0.7001 - accuracy: 0.5157 - val_loss: 0.6829 - val_accuracy: 0.5649\n",
      "Epoch 28/100\n",
      "60/60 [==============================] - 0s 6ms/step - loss: 0.7012 - accuracy: 0.5194 - val_loss: 0.6833 - val_accuracy: 0.5502\n",
      "Epoch 29/100\n",
      "60/60 [==============================] - 0s 6ms/step - loss: 0.7079 - accuracy: 0.5000 - val_loss: 0.6830 - val_accuracy: 0.5544\n",
      "Epoch 30/100\n",
      "60/60 [==============================] - 0s 6ms/step - loss: 0.6997 - accuracy: 0.5314 - val_loss: 0.6831 - val_accuracy: 0.5628\n",
      "Epoch 31/100\n",
      "60/60 [==============================] - 0s 6ms/step - loss: 0.6997 - accuracy: 0.5126 - val_loss: 0.6837 - val_accuracy: 0.5628\n",
      "Epoch 32/100\n",
      "60/60 [==============================] - 0s 6ms/step - loss: 0.7025 - accuracy: 0.5121 - val_loss: 0.6833 - val_accuracy: 0.5628\n",
      "Epoch 33/100\n",
      "60/60 [==============================] - 0s 6ms/step - loss: 0.7008 - accuracy: 0.5215 - val_loss: 0.6834 - val_accuracy: 0.5607\n",
      "Epoch 34/100\n",
      "60/60 [==============================] - 0s 6ms/step - loss: 0.7006 - accuracy: 0.5194 - val_loss: 0.6827 - val_accuracy: 0.5607\n",
      "Epoch 35/100\n",
      "60/60 [==============================] - 0s 6ms/step - loss: 0.6976 - accuracy: 0.5189 - val_loss: 0.6829 - val_accuracy: 0.5669\n",
      "Epoch 36/100\n",
      "60/60 [==============================] - 0s 6ms/step - loss: 0.6992 - accuracy: 0.5121 - val_loss: 0.6831 - val_accuracy: 0.5690\n",
      "Epoch 37/100\n",
      "60/60 [==============================] - 0s 6ms/step - loss: 0.7022 - accuracy: 0.5126 - val_loss: 0.6830 - val_accuracy: 0.5690\n",
      "Epoch 38/100\n",
      "60/60 [==============================] - 0s 6ms/step - loss: 0.6943 - accuracy: 0.5267 - val_loss: 0.6832 - val_accuracy: 0.5649\n",
      "Epoch 39/100\n",
      "60/60 [==============================] - 0s 6ms/step - loss: 0.6990 - accuracy: 0.5110 - val_loss: 0.6831 - val_accuracy: 0.5669\n",
      "Epoch 40/100\n",
      "60/60 [==============================] - 0s 6ms/step - loss: 0.6967 - accuracy: 0.5231 - val_loss: 0.6834 - val_accuracy: 0.5649\n",
      "Epoch 41/100\n",
      "60/60 [==============================] - 0s 6ms/step - loss: 0.6974 - accuracy: 0.5246 - val_loss: 0.6828 - val_accuracy: 0.5628\n",
      "Epoch 42/100\n",
      "60/60 [==============================] - 0s 6ms/step - loss: 0.6971 - accuracy: 0.5231 - val_loss: 0.6828 - val_accuracy: 0.5628\n",
      "Epoch 43/100\n",
      "60/60 [==============================] - 0s 6ms/step - loss: 0.7001 - accuracy: 0.5273 - val_loss: 0.6826 - val_accuracy: 0.5669\n",
      "Epoch 44/100\n",
      "60/60 [==============================] - 0s 6ms/step - loss: 0.6973 - accuracy: 0.5168 - val_loss: 0.6834 - val_accuracy: 0.5690\n",
      "Epoch 45/100\n",
      "60/60 [==============================] - 0s 6ms/step - loss: 0.6995 - accuracy: 0.5189 - val_loss: 0.6833 - val_accuracy: 0.5649\n",
      "Epoch 46/100\n",
      "60/60 [==============================] - 0s 6ms/step - loss: 0.6955 - accuracy: 0.5231 - val_loss: 0.6830 - val_accuracy: 0.5586\n",
      "Epoch 47/100\n",
      "60/60 [==============================] - 0s 6ms/step - loss: 0.6975 - accuracy: 0.5173 - val_loss: 0.6834 - val_accuracy: 0.5586\n",
      "Epoch 48/100\n",
      "60/60 [==============================] - 0s 6ms/step - loss: 0.6963 - accuracy: 0.5058 - val_loss: 0.6838 - val_accuracy: 0.5586\n",
      "Epoch 49/100\n",
      "60/60 [==============================] - 0s 6ms/step - loss: 0.6992 - accuracy: 0.5199 - val_loss: 0.6831 - val_accuracy: 0.5607\n",
      "Epoch 50/100\n",
      "60/60 [==============================] - 0s 6ms/step - loss: 0.7003 - accuracy: 0.5021 - val_loss: 0.6825 - val_accuracy: 0.5607\n",
      "Epoch 51/100\n",
      "60/60 [==============================] - 0s 6ms/step - loss: 0.6976 - accuracy: 0.5105 - val_loss: 0.6821 - val_accuracy: 0.5669\n",
      "Epoch 52/100\n",
      "60/60 [==============================] - 0s 6ms/step - loss: 0.6940 - accuracy: 0.5341 - val_loss: 0.6836 - val_accuracy: 0.5544\n",
      "Epoch 53/100\n",
      "60/60 [==============================] - 0s 6ms/step - loss: 0.6958 - accuracy: 0.5299 - val_loss: 0.6840 - val_accuracy: 0.5523\n",
      "Epoch 54/100\n",
      "60/60 [==============================] - 0s 6ms/step - loss: 0.6970 - accuracy: 0.5189 - val_loss: 0.6839 - val_accuracy: 0.5544\n",
      "Epoch 55/100\n",
      "60/60 [==============================] - 0s 6ms/step - loss: 0.6944 - accuracy: 0.5194 - val_loss: 0.6839 - val_accuracy: 0.5565\n",
      "Epoch 56/100\n",
      "60/60 [==============================] - 0s 6ms/step - loss: 0.6946 - accuracy: 0.5335 - val_loss: 0.6843 - val_accuracy: 0.5481\n",
      "Epoch 57/100\n",
      "60/60 [==============================] - 0s 6ms/step - loss: 0.6956 - accuracy: 0.5204 - val_loss: 0.6838 - val_accuracy: 0.5607\n",
      "Epoch 58/100\n",
      "60/60 [==============================] - 0s 6ms/step - loss: 0.6927 - accuracy: 0.5309 - val_loss: 0.6834 - val_accuracy: 0.5586\n"
     ]
    },
    {
     "name": "stdout",
     "output_type": "stream",
     "text": [
      "Epoch 59/100\n",
      "60/60 [==============================] - 0s 6ms/step - loss: 0.6962 - accuracy: 0.5257 - val_loss: 0.6840 - val_accuracy: 0.5565\n",
      "Epoch 60/100\n",
      "60/60 [==============================] - 0s 6ms/step - loss: 0.6986 - accuracy: 0.5100 - val_loss: 0.6844 - val_accuracy: 0.5586\n",
      "Epoch 61/100\n",
      "60/60 [==============================] - 0s 6ms/step - loss: 0.6968 - accuracy: 0.5073 - val_loss: 0.6846 - val_accuracy: 0.5607\n",
      "Epoch 62/100\n",
      "60/60 [==============================] - 0s 6ms/step - loss: 0.6970 - accuracy: 0.5220 - val_loss: 0.6838 - val_accuracy: 0.5607\n",
      "Epoch 63/100\n",
      "60/60 [==============================] - 0s 6ms/step - loss: 0.6956 - accuracy: 0.5189 - val_loss: 0.6835 - val_accuracy: 0.5544\n",
      "Epoch 64/100\n",
      "60/60 [==============================] - 0s 6ms/step - loss: 0.6943 - accuracy: 0.5110 - val_loss: 0.6838 - val_accuracy: 0.5586\n",
      "Epoch 65/100\n",
      "60/60 [==============================] - 0s 6ms/step - loss: 0.6959 - accuracy: 0.5173 - val_loss: 0.6846 - val_accuracy: 0.5628\n",
      "Epoch 66/100\n",
      "60/60 [==============================] - 0s 6ms/step - loss: 0.6959 - accuracy: 0.4969 - val_loss: 0.6846 - val_accuracy: 0.5460\n",
      "Epoch 67/100\n",
      "60/60 [==============================] - 0s 6ms/step - loss: 0.6951 - accuracy: 0.5168 - val_loss: 0.6850 - val_accuracy: 0.5460\n",
      "Epoch 68/100\n",
      "60/60 [==============================] - 0s 6ms/step - loss: 0.6935 - accuracy: 0.5257 - val_loss: 0.6842 - val_accuracy: 0.5607\n",
      "Epoch 69/100\n",
      "60/60 [==============================] - 0s 6ms/step - loss: 0.6913 - accuracy: 0.5377 - val_loss: 0.6838 - val_accuracy: 0.5565\n",
      "Epoch 70/100\n",
      "60/60 [==============================] - 0s 6ms/step - loss: 0.6980 - accuracy: 0.5100 - val_loss: 0.6844 - val_accuracy: 0.5586\n",
      "Epoch 71/100\n",
      "60/60 [==============================] - 0s 6ms/step - loss: 0.6975 - accuracy: 0.5079 - val_loss: 0.6845 - val_accuracy: 0.5607\n",
      "Epoch 72/100\n",
      "60/60 [==============================] - 0s 6ms/step - loss: 0.6958 - accuracy: 0.5157 - val_loss: 0.6845 - val_accuracy: 0.5523\n",
      "Epoch 73/100\n",
      "60/60 [==============================] - 0s 6ms/step - loss: 0.6967 - accuracy: 0.5262 - val_loss: 0.6846 - val_accuracy: 0.5523\n",
      "Epoch 74/100\n",
      "60/60 [==============================] - 0s 6ms/step - loss: 0.6934 - accuracy: 0.5294 - val_loss: 0.6841 - val_accuracy: 0.5586\n",
      "Epoch 75/100\n",
      "60/60 [==============================] - 0s 6ms/step - loss: 0.6938 - accuracy: 0.5335 - val_loss: 0.6838 - val_accuracy: 0.5628\n",
      "Epoch 76/100\n",
      "60/60 [==============================] - 0s 6ms/step - loss: 0.6951 - accuracy: 0.5189 - val_loss: 0.6846 - val_accuracy: 0.5544\n",
      "Epoch 77/100\n",
      "60/60 [==============================] - 0s 6ms/step - loss: 0.6967 - accuracy: 0.5152 - val_loss: 0.6855 - val_accuracy: 0.5711\n",
      "Epoch 78/100\n",
      "60/60 [==============================] - 0s 6ms/step - loss: 0.6948 - accuracy: 0.5194 - val_loss: 0.6844 - val_accuracy: 0.5607\n",
      "Epoch 79/100\n",
      "60/60 [==============================] - 0s 6ms/step - loss: 0.6876 - accuracy: 0.5335 - val_loss: 0.6843 - val_accuracy: 0.5607\n",
      "Epoch 80/100\n",
      "60/60 [==============================] - 0s 6ms/step - loss: 0.6935 - accuracy: 0.5283 - val_loss: 0.6840 - val_accuracy: 0.5607\n",
      "Epoch 81/100\n",
      "60/60 [==============================] - 0s 6ms/step - loss: 0.6913 - accuracy: 0.5273 - val_loss: 0.6836 - val_accuracy: 0.5607\n",
      "Epoch 82/100\n",
      "60/60 [==============================] - 0s 6ms/step - loss: 0.6951 - accuracy: 0.5199 - val_loss: 0.6847 - val_accuracy: 0.5649\n",
      "Epoch 83/100\n",
      "60/60 [==============================] - 0s 6ms/step - loss: 0.6960 - accuracy: 0.5063 - val_loss: 0.6858 - val_accuracy: 0.5628\n",
      "Epoch 84/100\n",
      "60/60 [==============================] - 0s 6ms/step - loss: 0.6917 - accuracy: 0.5362 - val_loss: 0.6861 - val_accuracy: 0.5544\n",
      "Epoch 85/100\n",
      "60/60 [==============================] - 0s 6ms/step - loss: 0.6914 - accuracy: 0.5367 - val_loss: 0.6860 - val_accuracy: 0.5544\n",
      "Epoch 86/100\n",
      "60/60 [==============================] - 0s 6ms/step - loss: 0.6903 - accuracy: 0.5183 - val_loss: 0.6845 - val_accuracy: 0.5628\n",
      "Epoch 87/100\n",
      "60/60 [==============================] - 0s 6ms/step - loss: 0.6954 - accuracy: 0.5147 - val_loss: 0.6843 - val_accuracy: 0.5565\n",
      "Epoch 88/100\n",
      "60/60 [==============================] - 0s 6ms/step - loss: 0.6900 - accuracy: 0.5346 - val_loss: 0.6846 - val_accuracy: 0.5607\n",
      "Epoch 89/100\n",
      "60/60 [==============================] - 0s 6ms/step - loss: 0.6891 - accuracy: 0.5335 - val_loss: 0.6852 - val_accuracy: 0.5523\n",
      "Epoch 90/100\n",
      "60/60 [==============================] - 0s 6ms/step - loss: 0.6916 - accuracy: 0.5346 - val_loss: 0.6868 - val_accuracy: 0.5397\n",
      "Epoch 91/100\n",
      "60/60 [==============================] - 0s 6ms/step - loss: 0.6910 - accuracy: 0.5314 - val_loss: 0.6863 - val_accuracy: 0.5586\n",
      "Epoch 92/100\n",
      "60/60 [==============================] - 0s 6ms/step - loss: 0.6923 - accuracy: 0.5225 - val_loss: 0.6859 - val_accuracy: 0.5460\n",
      "Epoch 93/100\n",
      "60/60 [==============================] - 0s 6ms/step - loss: 0.6936 - accuracy: 0.5273 - val_loss: 0.6868 - val_accuracy: 0.5544\n",
      "Epoch 94/100\n",
      "60/60 [==============================] - 0s 7ms/step - loss: 0.6940 - accuracy: 0.5283 - val_loss: 0.6887 - val_accuracy: 0.5230\n",
      "Epoch 95/100\n",
      "60/60 [==============================] - 0s 6ms/step - loss: 0.6922 - accuracy: 0.5330 - val_loss: 0.6867 - val_accuracy: 0.5418\n",
      "Epoch 96/100\n",
      "60/60 [==============================] - 0s 6ms/step - loss: 0.6931 - accuracy: 0.5325 - val_loss: 0.6872 - val_accuracy: 0.5418\n",
      "Epoch 97/100\n",
      "60/60 [==============================] - 0s 6ms/step - loss: 0.6932 - accuracy: 0.5304 - val_loss: 0.6867 - val_accuracy: 0.5418\n",
      "Epoch 98/100\n",
      "60/60 [==============================] - 0s 6ms/step - loss: 0.6905 - accuracy: 0.5335 - val_loss: 0.6869 - val_accuracy: 0.5335\n",
      "Epoch 99/100\n",
      "60/60 [==============================] - 0s 6ms/step - loss: 0.6895 - accuracy: 0.5309 - val_loss: 0.6861 - val_accuracy: 0.5377\n",
      "Epoch 100/100\n",
      "60/60 [==============================] - 0s 6ms/step - loss: 0.6921 - accuracy: 0.5257 - val_loss: 0.6864 - val_accuracy: 0.5397\n"
     ]
    }
   ],
   "source": [
    "history = model.fit(X_train, y_train, epochs = epochs, validation_data=(X_val, y_val)) "
   ]
  },
  {
   "cell_type": "code",
   "execution_count": 26,
   "metadata": {},
   "outputs": [
    {
     "data": {
      "image/png": "[encoded data removed]",
      "text/plain": [
       "<Figure size 864x576 with 2 Axes>"
      ]
     },
     "metadata": {
      "needs_background": "light"
     },
     "output_type": "display_data"
    }
   ],
   "source": [
    "# plotting\n",
    "plt.subplot(121)\n",
    "plt.plot(history.history['loss'], label = 'Train')\n",
    "plt.plot(history.history['val_loss'], label = 'Valid')\n",
    "plt.title('Loss')\n",
    "plt.xlabel('Epochs')\n",
    "plt.ylabel('Loss')\n",
    "plt.legend()\n",
    "\n",
    "plt.subplot(122)\n",
    "plt.plot(history.history['accuracy'], label = 'Train')\n",
    "plt.plot(history.history['val_accuracy'], label = 'Valid')\n",
    "plt.title('Accuracy')\n",
    "plt.xlabel('Epochs')\n",
    "plt.ylabel('Accuracy')\n",
    "plt.legend()\n",
    "\n",
    "plt.show()"
   ]
  },
  {
   "cell_type": "code",
   "execution_count": 27,
   "metadata": {},
   "outputs": [
    {
     "name": "stdout",
     "output_type": "stream",
     "text": [
      "Average Accuracy:  0.5500000011920929\n"
     ]
    }
   ],
   "source": [
    "print('Average Accuracy: ', np.mean(history.history['val_accuracy']))"
   ]
  },
  {
   "cell_type": "code",
   "execution_count": 30,
   "metadata": {},
   "outputs": [
    {
     "name": "stdout",
     "output_type": "stream",
     "text": [
      "INFO:tensorflow:Assets written to: CONV16-LSTM50-D50.pth\\assets\n"
     ]
    }
   ],
   "source": [
    "# saving model\n",
    "model.save('CONV16-LSTM50-D50.pth')"
   ]
  },
  {
   "cell_type": "code",
   "execution_count": 4,
   "metadata": {},
   "outputs": [],
   "source": [
    "loaded_model = models.load_model('CONV16-LSTM50-D50.pth')"
   ]
  },
  {
   "cell_type": "code",
   "execution_count": 27,
   "metadata": {},
   "outputs": [],
   "source": [
    "predictions = (loaded_model.predict(X_val)>0.5).astype(int).flatten()"
   ]
  },
  {
   "cell_type": "code",
   "execution_count": 30,
   "metadata": {},
   "outputs": [
    {
     "name": "stdout",
     "output_type": "stream",
     "text": [
      "              precision    recall  f1-score   support\n",
      "\n",
      "           0       0.15      0.40      0.22        77\n",
      "           1       0.83      0.57      0.67       401\n",
      "\n",
      "    accuracy                           0.54       478\n",
      "   macro avg       0.49      0.48      0.45       478\n",
      "weighted avg       0.72      0.54      0.60       478\n",
      "\n"
     ]
    }
   ],
   "source": [
    "from sklearn import metrics\n",
    "print(metrics.classification_report(predictions, y_val))"
   ]
  },
  {
   "cell_type": "code",
   "execution_count": null,
   "metadata": {},
   "outputs": [],
   "source": []
  }
 ],
 "metadata": {
  "kernelspec": {
   "display_name": "Python 3",
   "language": "python",
   "name": "python3"
  },
  "language_info": {
   "codemirror_mode": {
    "name": "ipython",
    "version": 3
   },
   "file_extension": ".py",
   "mimetype": "text/x-python",
   "name": "python",
   "nbconvert_exporter": "python",
   "pygments_lexer": "ipython3",
   "version": "3.6.5"
  }
 },
 "nbformat": 4,
 "nbformat_minor": 4
}
