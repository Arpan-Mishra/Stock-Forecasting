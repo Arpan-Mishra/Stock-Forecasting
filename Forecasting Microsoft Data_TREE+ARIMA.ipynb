{
 "cells": [
  {
   "cell_type": "markdown",
   "metadata": {},
   "source": [
    "Source: https://github.com/NGYB/Stocks/blob/master/StockPricePrediction/StockPricePrediction_v1c_xgboost.ipynb"
   ]
  },
  {
   "cell_type": "code",
   "execution_count": 156,
   "metadata": {},
   "outputs": [],
   "source": [
    "# data wrangling and linear algebra\n",
    "import pandas as pd\n",
    "import numpy as np\n",
    "\n",
    "# cross validation\n",
    "from sklearn.model_selection import TimeSeriesSplit\n",
    "from sklearn.model_selection import train_test_split\n",
    "\n",
    "# models\n",
    "import xgboost\n",
    "from sklearn import linear_model\n",
    "from sklearn.ensemble import RandomForestRegressor\n",
    "from sklearn.tree import DecisionTreeRegressor\n",
    "import pmdarima as pm\n",
    "\n",
    "# visualisation\n",
    "import matplotlib.pyplot as plt\n",
    "import matplotlib\n",
    "\n",
    "# error metrics\n",
    "from sklearn import metrics\n",
    "\n",
    "# misc\n",
    "import warnings\n",
    "\n",
    "warnings.filterwarnings(action='ignore')\n",
    "matplotlib.rcParams['figure.figsize'] = (10,8)\n"
   ]
  },
  {
   "cell_type": "code",
   "execution_count": 5,
   "metadata": {},
   "outputs": [
    {
     "data": {
      "text/html": [
       "<div>\n",
       "<style scoped>\n",
       "    .dataframe tbody tr th:only-of-type {\n",
       "        vertical-align: middle;\n",
       "    }\n",
       "\n",
       "    .dataframe tbody tr th {\n",
       "        vertical-align: top;\n",
       "    }\n",
       "\n",
       "    .dataframe thead th {\n",
       "        text-align: right;\n",
       "    }\n",
       "</style>\n",
       "<table border=\"1\" class=\"dataframe\">\n",
       "  <thead>\n",
       "    <tr style=\"text-align: right;\">\n",
       "      <th></th>\n",
       "      <th>Open</th>\n",
       "      <th>High</th>\n",
       "      <th>Low</th>\n",
       "      <th>Close</th>\n",
       "      <th>Volume</th>\n",
       "      <th>Dividends</th>\n",
       "      <th>Stock Splits</th>\n",
       "    </tr>\n",
       "    <tr>\n",
       "      <th>Date</th>\n",
       "      <th></th>\n",
       "      <th></th>\n",
       "      <th></th>\n",
       "      <th></th>\n",
       "      <th></th>\n",
       "      <th></th>\n",
       "      <th></th>\n",
       "    </tr>\n",
       "  </thead>\n",
       "  <tbody>\n",
       "    <tr>\n",
       "      <th>2010-08-02</th>\n",
       "      <td>20.53</td>\n",
       "      <td>20.84</td>\n",
       "      <td>20.34</td>\n",
       "      <td>20.80</td>\n",
       "      <td>55044600</td>\n",
       "      <td>0.0</td>\n",
       "      <td>0</td>\n",
       "    </tr>\n",
       "    <tr>\n",
       "      <th>2010-08-03</th>\n",
       "      <td>20.70</td>\n",
       "      <td>20.82</td>\n",
       "      <td>20.52</td>\n",
       "      <td>20.67</td>\n",
       "      <td>56877700</td>\n",
       "      <td>0.0</td>\n",
       "      <td>0</td>\n",
       "    </tr>\n",
       "    <tr>\n",
       "      <th>2010-08-04</th>\n",
       "      <td>20.66</td>\n",
       "      <td>20.73</td>\n",
       "      <td>20.10</td>\n",
       "      <td>20.33</td>\n",
       "      <td>78531900</td>\n",
       "      <td>0.0</td>\n",
       "      <td>0</td>\n",
       "    </tr>\n",
       "    <tr>\n",
       "      <th>2010-08-05</th>\n",
       "      <td>20.14</td>\n",
       "      <td>20.21</td>\n",
       "      <td>19.92</td>\n",
       "      <td>20.04</td>\n",
       "      <td>64922100</td>\n",
       "      <td>0.0</td>\n",
       "      <td>0</td>\n",
       "    </tr>\n",
       "    <tr>\n",
       "      <th>2010-08-06</th>\n",
       "      <td>19.89</td>\n",
       "      <td>20.19</td>\n",
       "      <td>19.77</td>\n",
       "      <td>20.18</td>\n",
       "      <td>55982100</td>\n",
       "      <td>0.0</td>\n",
       "      <td>0</td>\n",
       "    </tr>\n",
       "    <tr>\n",
       "      <th>...</th>\n",
       "      <td>...</td>\n",
       "      <td>...</td>\n",
       "      <td>...</td>\n",
       "      <td>...</td>\n",
       "      <td>...</td>\n",
       "      <td>...</td>\n",
       "      <td>...</td>\n",
       "    </tr>\n",
       "    <tr>\n",
       "      <th>2020-07-24</th>\n",
       "      <td>200.42</td>\n",
       "      <td>202.86</td>\n",
       "      <td>197.51</td>\n",
       "      <td>201.30</td>\n",
       "      <td>39827000</td>\n",
       "      <td>0.0</td>\n",
       "      <td>0</td>\n",
       "    </tr>\n",
       "    <tr>\n",
       "      <th>2020-07-27</th>\n",
       "      <td>201.47</td>\n",
       "      <td>203.97</td>\n",
       "      <td>200.86</td>\n",
       "      <td>203.85</td>\n",
       "      <td>30160900</td>\n",
       "      <td>0.0</td>\n",
       "      <td>0</td>\n",
       "    </tr>\n",
       "    <tr>\n",
       "      <th>2020-07-28</th>\n",
       "      <td>203.61</td>\n",
       "      <td>204.70</td>\n",
       "      <td>201.74</td>\n",
       "      <td>202.02</td>\n",
       "      <td>23251400</td>\n",
       "      <td>0.0</td>\n",
       "      <td>0</td>\n",
       "    </tr>\n",
       "    <tr>\n",
       "      <th>2020-07-29</th>\n",
       "      <td>202.50</td>\n",
       "      <td>204.65</td>\n",
       "      <td>202.01</td>\n",
       "      <td>204.06</td>\n",
       "      <td>19632600</td>\n",
       "      <td>0.0</td>\n",
       "      <td>0</td>\n",
       "    </tr>\n",
       "    <tr>\n",
       "      <th>2020-07-30</th>\n",
       "      <td>201.00</td>\n",
       "      <td>204.46</td>\n",
       "      <td>199.57</td>\n",
       "      <td>203.90</td>\n",
       "      <td>24972800</td>\n",
       "      <td>0.0</td>\n",
       "      <td>0</td>\n",
       "    </tr>\n",
       "  </tbody>\n",
       "</table>\n",
       "<p>2517 rows × 7 columns</p>\n",
       "</div>"
      ],
      "text/plain": [
       "              Open    High     Low   Close    Volume  Dividends  Stock Splits\n",
       "Date                                                                         \n",
       "2010-08-02   20.53   20.84   20.34   20.80  55044600        0.0             0\n",
       "2010-08-03   20.70   20.82   20.52   20.67  56877700        0.0             0\n",
       "2010-08-04   20.66   20.73   20.10   20.33  78531900        0.0             0\n",
       "2010-08-05   20.14   20.21   19.92   20.04  64922100        0.0             0\n",
       "2010-08-06   19.89   20.19   19.77   20.18  55982100        0.0             0\n",
       "...            ...     ...     ...     ...       ...        ...           ...\n",
       "2020-07-24  200.42  202.86  197.51  201.30  39827000        0.0             0\n",
       "2020-07-27  201.47  203.97  200.86  203.85  30160900        0.0             0\n",
       "2020-07-28  203.61  204.70  201.74  202.02  23251400        0.0             0\n",
       "2020-07-29  202.50  204.65  202.01  204.06  19632600        0.0             0\n",
       "2020-07-30  201.00  204.46  199.57  203.90  24972800        0.0             0\n",
       "\n",
       "[2517 rows x 7 columns]"
      ]
     },
     "execution_count": 5,
     "metadata": {},
     "output_type": "execute_result"
    }
   ],
   "source": [
    "msft = pd.read_csv('msft.csv')\n",
    "msft = msft.set_index('Date')\n",
    "msft"
   ]
  },
  {
   "cell_type": "markdown",
   "metadata": {},
   "source": [
    "<b> Univariate TS Modeling"
   ]
  },
  {
   "cell_type": "code",
   "execution_count": 25,
   "metadata": {},
   "outputs": [],
   "source": [
    "close = msft[['Close']]"
   ]
  },
  {
   "cell_type": "code",
   "execution_count": 39,
   "metadata": {},
   "outputs": [],
   "source": [
    "# predict for next 30 days\n",
    "future_days = 30\n",
    "\n",
    "close.loc[:,'prediction'] = close.shift(-future_days)"
   ]
  },
  {
   "cell_type": "code",
   "execution_count": 40,
   "metadata": {},
   "outputs": [
    {
     "data": {
      "text/html": [
       "<div>\n",
       "<style scoped>\n",
       "    .dataframe tbody tr th:only-of-type {\n",
       "        vertical-align: middle;\n",
       "    }\n",
       "\n",
       "    .dataframe tbody tr th {\n",
       "        vertical-align: top;\n",
       "    }\n",
       "\n",
       "    .dataframe thead th {\n",
       "        text-align: right;\n",
       "    }\n",
       "</style>\n",
       "<table border=\"1\" class=\"dataframe\">\n",
       "  <thead>\n",
       "    <tr style=\"text-align: right;\">\n",
       "      <th></th>\n",
       "      <th>Close</th>\n",
       "      <th>prediction</th>\n",
       "    </tr>\n",
       "    <tr>\n",
       "      <th>Date</th>\n",
       "      <th></th>\n",
       "      <th></th>\n",
       "    </tr>\n",
       "  </thead>\n",
       "  <tbody>\n",
       "    <tr>\n",
       "      <th>2020-06-18</th>\n",
       "      <td>196.32</td>\n",
       "      <td>NaN</td>\n",
       "    </tr>\n",
       "    <tr>\n",
       "      <th>2020-06-19</th>\n",
       "      <td>195.15</td>\n",
       "      <td>NaN</td>\n",
       "    </tr>\n",
       "    <tr>\n",
       "      <th>2020-06-22</th>\n",
       "      <td>200.57</td>\n",
       "      <td>NaN</td>\n",
       "    </tr>\n",
       "    <tr>\n",
       "      <th>2020-06-23</th>\n",
       "      <td>201.91</td>\n",
       "      <td>NaN</td>\n",
       "    </tr>\n",
       "    <tr>\n",
       "      <th>2020-06-24</th>\n",
       "      <td>197.84</td>\n",
       "      <td>NaN</td>\n",
       "    </tr>\n",
       "    <tr>\n",
       "      <th>2020-06-25</th>\n",
       "      <td>200.34</td>\n",
       "      <td>NaN</td>\n",
       "    </tr>\n",
       "    <tr>\n",
       "      <th>2020-06-26</th>\n",
       "      <td>196.33</td>\n",
       "      <td>NaN</td>\n",
       "    </tr>\n",
       "    <tr>\n",
       "      <th>2020-06-29</th>\n",
       "      <td>198.44</td>\n",
       "      <td>NaN</td>\n",
       "    </tr>\n",
       "    <tr>\n",
       "      <th>2020-06-30</th>\n",
       "      <td>203.51</td>\n",
       "      <td>NaN</td>\n",
       "    </tr>\n",
       "    <tr>\n",
       "      <th>2020-07-01</th>\n",
       "      <td>204.70</td>\n",
       "      <td>NaN</td>\n",
       "    </tr>\n",
       "    <tr>\n",
       "      <th>2020-07-02</th>\n",
       "      <td>206.26</td>\n",
       "      <td>NaN</td>\n",
       "    </tr>\n",
       "    <tr>\n",
       "      <th>2020-07-06</th>\n",
       "      <td>210.70</td>\n",
       "      <td>NaN</td>\n",
       "    </tr>\n",
       "    <tr>\n",
       "      <th>2020-07-07</th>\n",
       "      <td>208.25</td>\n",
       "      <td>NaN</td>\n",
       "    </tr>\n",
       "    <tr>\n",
       "      <th>2020-07-08</th>\n",
       "      <td>212.83</td>\n",
       "      <td>NaN</td>\n",
       "    </tr>\n",
       "    <tr>\n",
       "      <th>2020-07-09</th>\n",
       "      <td>214.32</td>\n",
       "      <td>NaN</td>\n",
       "    </tr>\n",
       "    <tr>\n",
       "      <th>2020-07-10</th>\n",
       "      <td>213.67</td>\n",
       "      <td>NaN</td>\n",
       "    </tr>\n",
       "    <tr>\n",
       "      <th>2020-07-13</th>\n",
       "      <td>207.07</td>\n",
       "      <td>NaN</td>\n",
       "    </tr>\n",
       "    <tr>\n",
       "      <th>2020-07-14</th>\n",
       "      <td>208.35</td>\n",
       "      <td>NaN</td>\n",
       "    </tr>\n",
       "    <tr>\n",
       "      <th>2020-07-15</th>\n",
       "      <td>208.04</td>\n",
       "      <td>NaN</td>\n",
       "    </tr>\n",
       "    <tr>\n",
       "      <th>2020-07-16</th>\n",
       "      <td>203.92</td>\n",
       "      <td>NaN</td>\n",
       "    </tr>\n",
       "    <tr>\n",
       "      <th>2020-07-17</th>\n",
       "      <td>202.88</td>\n",
       "      <td>NaN</td>\n",
       "    </tr>\n",
       "    <tr>\n",
       "      <th>2020-07-20</th>\n",
       "      <td>211.60</td>\n",
       "      <td>NaN</td>\n",
       "    </tr>\n",
       "    <tr>\n",
       "      <th>2020-07-21</th>\n",
       "      <td>208.75</td>\n",
       "      <td>NaN</td>\n",
       "    </tr>\n",
       "    <tr>\n",
       "      <th>2020-07-22</th>\n",
       "      <td>211.75</td>\n",
       "      <td>NaN</td>\n",
       "    </tr>\n",
       "    <tr>\n",
       "      <th>2020-07-23</th>\n",
       "      <td>202.54</td>\n",
       "      <td>NaN</td>\n",
       "    </tr>\n",
       "    <tr>\n",
       "      <th>2020-07-24</th>\n",
       "      <td>201.30</td>\n",
       "      <td>NaN</td>\n",
       "    </tr>\n",
       "    <tr>\n",
       "      <th>2020-07-27</th>\n",
       "      <td>203.85</td>\n",
       "      <td>NaN</td>\n",
       "    </tr>\n",
       "    <tr>\n",
       "      <th>2020-07-28</th>\n",
       "      <td>202.02</td>\n",
       "      <td>NaN</td>\n",
       "    </tr>\n",
       "    <tr>\n",
       "      <th>2020-07-29</th>\n",
       "      <td>204.06</td>\n",
       "      <td>NaN</td>\n",
       "    </tr>\n",
       "    <tr>\n",
       "      <th>2020-07-30</th>\n",
       "      <td>203.90</td>\n",
       "      <td>NaN</td>\n",
       "    </tr>\n",
       "  </tbody>\n",
       "</table>\n",
       "</div>"
      ],
      "text/plain": [
       "             Close  prediction\n",
       "Date                          \n",
       "2020-06-18  196.32         NaN\n",
       "2020-06-19  195.15         NaN\n",
       "2020-06-22  200.57         NaN\n",
       "2020-06-23  201.91         NaN\n",
       "2020-06-24  197.84         NaN\n",
       "2020-06-25  200.34         NaN\n",
       "2020-06-26  196.33         NaN\n",
       "2020-06-29  198.44         NaN\n",
       "2020-06-30  203.51         NaN\n",
       "2020-07-01  204.70         NaN\n",
       "2020-07-02  206.26         NaN\n",
       "2020-07-06  210.70         NaN\n",
       "2020-07-07  208.25         NaN\n",
       "2020-07-08  212.83         NaN\n",
       "2020-07-09  214.32         NaN\n",
       "2020-07-10  213.67         NaN\n",
       "2020-07-13  207.07         NaN\n",
       "2020-07-14  208.35         NaN\n",
       "2020-07-15  208.04         NaN\n",
       "2020-07-16  203.92         NaN\n",
       "2020-07-17  202.88         NaN\n",
       "2020-07-20  211.60         NaN\n",
       "2020-07-21  208.75         NaN\n",
       "2020-07-22  211.75         NaN\n",
       "2020-07-23  202.54         NaN\n",
       "2020-07-24  201.30         NaN\n",
       "2020-07-27  203.85         NaN\n",
       "2020-07-28  202.02         NaN\n",
       "2020-07-29  204.06         NaN\n",
       "2020-07-30  203.90         NaN"
      ]
     },
     "execution_count": 40,
     "metadata": {},
     "output_type": "execute_result"
    }
   ],
   "source": [
    "close.tail(30)"
   ]
  },
  {
   "cell_type": "code",
   "execution_count": 41,
   "metadata": {},
   "outputs": [
    {
     "name": "stdout",
     "output_type": "stream",
     "text": [
      "Training Size:  (1989, 1) (1989,)\n",
      "Validation Size:  (498, 1) (498,)\n"
     ]
    }
   ],
   "source": [
    "# splitting\n",
    "\n",
    "X = close.drop(['prediction'], axis = 1)[:-future_days]\n",
    "y = close['prediction'][:-future_days]\n",
    "\n",
    "X_train, X_val ,y_train, y_val = train_test_split(X,y, test_size = 0.2, shuffle = False)\n",
    "\n",
    "print('Training Size: ', X_train.shape, y_train.shape)\n",
    "print('Validation Size: ', X_val.shape, y_val.shape)"
   ]
  },
  {
   "cell_type": "code",
   "execution_count": 119,
   "metadata": {},
   "outputs": [
    {
     "data": {
      "image/png": "[encoded data removed]",
      "text/plain": [
       "<Figure size 720x576 with 1 Axes>"
      ]
     },
     "metadata": {
      "needs_background": "light"
     },
     "output_type": "display_data"
    }
   ],
   "source": [
    "# plotting the split\n",
    "\n",
    "plt.plot(X_train['Close'])\n",
    "plt.plot(X_val['Close'])\n",
    "plt.legend(['Train','Valid'])\n",
    "plt.show()"
   ]
  },
  {
   "cell_type": "code",
   "execution_count": 47,
   "metadata": {},
   "outputs": [],
   "source": [
    "# define models\n",
    "\n",
    "reg = linear_model.LinearRegression()\n",
    "tree = DecisionTreeRegressor()\n",
    "rf = RandomForestRegressor(n_jobs=-1)\n",
    "xgb = xgboost.XGBRegressor(n_jobs = -1)\n",
    "\n",
    "models = [reg, tree, rf, xgb]"
   ]
  },
  {
   "cell_type": "code",
   "execution_count": 146,
   "metadata": {},
   "outputs": [],
   "source": [
    "def plot_outputs(model):\n",
    "    \n",
    "    predictions = model.predict(X.tail(future_days)['Close'].values.reshape(-1,1))    \n",
    "    valid = msft[['Close']][X.shape[0]:]\n",
    "    valid['predictions'] = predictions\n",
    "    \n",
    "    plt.plot(X.Close)\n",
    "    plt.plot(valid[['Close','predictions']])\n",
    "    \n",
    "    plt.legend(['Train','Valid','Pred'])\n",
    "    plt.show()"
   ]
  },
  {
   "cell_type": "code",
   "execution_count": 152,
   "metadata": {},
   "outputs": [],
   "source": [
    "def train_eval(models):\n",
    "    \"\"\"\n",
    "    Trains and evaluates models and returns the best model with best score\n",
    "    \n",
    "    :params models: list of models\n",
    "    \n",
    "    returns: best_model\n",
    "    \"\"\"\n",
    "    \n",
    "    best_model = None\n",
    "    best_score = 9999\n",
    "    for model in models:\n",
    "        model.fit(X_train,y_train)\n",
    "        prediction = model.predict(X_val)\n",
    "        \n",
    "        rmse = metrics.mean_squared_error(y_val, prediction, squared = False)        \n",
    "        print(f'RMSE:{str(model)[:3]} = {rmse}')\n",
    "        \n",
    "        if rmse < best_score:\n",
    "            best_score = rmse\n",
    "            best_model = model\n",
    "        \n",
    "    plot_outputs(best_model)\n",
    "        \n",
    "    return best_model"
   ]
  },
  {
   "cell_type": "code",
   "execution_count": 153,
   "metadata": {},
   "outputs": [
    {
     "name": "stdout",
     "output_type": "stream",
     "text": [
      "RMSE:Lin = 11.742783972749871\n",
      "RMSE:Dec = 47.97888738328717\n",
      "RMSE:Ran = 47.60259992372904\n",
      "RMSE:XGB = 47.93806159504228\n"
     ]
    },
    {
     "data": {
      "image/png": "[encoded data removed]",
      "text/plain": [
       "<Figure size 720x576 with 1 Axes>"
      ]
     },
     "metadata": {
      "needs_background": "light"
     },
     "output_type": "display_data"
    },
    {
     "data": {
      "text/plain": [
       "LinearRegression()"
      ]
     },
     "execution_count": 153,
     "metadata": {},
     "output_type": "execute_result"
    }
   ],
   "source": [
    "train_eval(models)"
   ]
  },
  {
   "cell_type": "markdown",
   "metadata": {},
   "source": [
    "<B> ARIMA"
   ]
  },
  {
   "cell_type": "code",
   "execution_count": 158,
   "metadata": {},
   "outputs": [],
   "source": [
    "df = msft.drop(['Dividends', 'Stock Splits'], axis = 1)"
   ]
  },
  {
   "cell_type": "markdown",
   "metadata": {},
   "source": [
    "Auto Arima"
   ]
  },
  {
   "cell_type": "code",
   "execution_count": 203,
   "metadata": {},
   "outputs": [
    {
     "name": "stdout",
     "output_type": "stream",
     "text": [
      "Performing stepwise search to minimize aic\n",
      "Fit ARIMA(0,1,0)x(1,0,1,12) [intercept=True]; AIC=9241.891, BIC=9265.212, Time=1.541 seconds\n",
      "Fit ARIMA(0,1,0)x(0,0,0,12) [intercept=True]; AIC=9269.954, BIC=9281.615, Time=0.044 seconds\n",
      "Fit ARIMA(1,1,0)x(1,0,0,12) [intercept=True]; AIC=8975.636, BIC=8998.958, Time=0.665 seconds\n",
      "Fit ARIMA(0,1,1)x(0,0,1,12) [intercept=True]; AIC=8999.640, BIC=9022.962, Time=0.721 seconds\n",
      "Fit ARIMA(0,1,0)x(0,0,0,12) [intercept=False]; AIC=9273.672, BIC=9279.502, Time=0.038 seconds\n",
      "Fit ARIMA(1,1,0)x(0,0,0,12) [intercept=True]; AIC=8984.326, BIC=9001.817, Time=0.169 seconds\n",
      "Fit ARIMA(1,1,0)x(2,0,0,12) [intercept=True]; AIC=8971.487, BIC=9000.639, Time=2.208 seconds\n",
      "Fit ARIMA(1,1,0)x(2,0,1,12) [intercept=True]; AIC=8973.014, BIC=9007.997, Time=5.732 seconds\n",
      "Fit ARIMA(1,1,0)x(1,0,1,12) [intercept=True]; AIC=8972.225, BIC=9001.377, Time=1.761 seconds\n",
      "Fit ARIMA(0,1,0)x(2,0,0,12) [intercept=True]; AIC=9239.920, BIC=9263.242, Time=2.091 seconds\n",
      "Fit ARIMA(2,1,0)x(2,0,0,12) [intercept=True]; AIC=8971.120, BIC=9006.102, Time=2.644 seconds\n",
      "Fit ARIMA(2,1,0)x(1,0,0,12) [intercept=True]; AIC=8976.664, BIC=9005.816, Time=0.965 seconds\n",
      "Fit ARIMA(2,1,0)x(2,0,1,12) [intercept=True]; AIC=8972.646, BIC=9013.459, Time=11.186 seconds\n",
      "Fit ARIMA(2,1,0)x(1,0,1,12) [intercept=True]; AIC=8972.464, BIC=9007.446, Time=2.491 seconds\n",
      "Fit ARIMA(3,1,0)x(2,0,0,12) [intercept=True]; AIC=8957.018, BIC=8997.831, Time=3.198 seconds\n",
      "Fit ARIMA(3,1,0)x(1,0,0,12) [intercept=True]; AIC=8962.235, BIC=8997.217, Time=1.036 seconds\n",
      "Fit ARIMA(3,1,0)x(2,0,1,12) [intercept=True]; AIC=8958.423, BIC=9005.067, Time=8.452 seconds\n",
      "Fit ARIMA(3,1,0)x(1,0,1,12) [intercept=True]; AIC=8958.422, BIC=8999.235, Time=4.040 seconds\n",
      "Fit ARIMA(4,1,0)x(2,0,0,12) [intercept=True]; AIC=8955.749, BIC=9002.392, Time=4.154 seconds\n",
      "Fit ARIMA(4,1,0)x(1,0,0,12) [intercept=True]; AIC=8961.077, BIC=9001.890, Time=1.381 seconds\n",
      "Fit ARIMA(4,1,0)x(2,0,1,12) [intercept=True]; AIC=8956.992, BIC=9009.466, Time=10.853 seconds\n",
      "Fit ARIMA(4,1,0)x(1,0,1,12) [intercept=True]; AIC=8957.048, BIC=9003.692, Time=3.845 seconds\n",
      "Fit ARIMA(5,1,0)x(2,0,0,12) [intercept=True]; AIC=8957.643, BIC=9010.117, Time=5.410 seconds\n",
      "Fit ARIMA(4,1,1)x(2,0,0,12) [intercept=True]; AIC=8957.341, BIC=9009.814, Time=16.435 seconds\n",
      "Fit ARIMA(3,1,1)x(2,0,0,12) [intercept=True]; AIC=8879.205, BIC=8925.849, Time=14.425 seconds\n",
      "Fit ARIMA(3,1,1)x(1,0,0,12) [intercept=True]; AIC=8881.605, BIC=8922.418, Time=4.389 seconds\n",
      "Fit ARIMA(3,1,1)x(2,0,1,12) [intercept=True]; AIC=8880.405, BIC=8932.879, Time=24.141 seconds\n",
      "Fit ARIMA(3,1,1)x(1,0,1,12) [intercept=True]; AIC=8879.000, BIC=8925.643, Time=6.489 seconds\n",
      "Fit ARIMA(3,1,1)x(0,0,1,12) [intercept=True]; AIC=8880.531, BIC=8921.344, Time=4.600 seconds\n",
      "Fit ARIMA(3,1,1)x(1,0,2,12) [intercept=True]; AIC=8880.458, BIC=8932.932, Time=20.779 seconds\n",
      "Fit ARIMA(3,1,1)x(0,0,0,12) [intercept=True]; AIC=8890.850, BIC=8925.833, Time=1.111 seconds\n",
      "Fit ARIMA(3,1,1)x(0,0,2,12) [intercept=True]; AIC=8878.709, BIC=8925.353, Time=13.578 seconds\n",
      "Fit ARIMA(2,1,1)x(0,0,2,12) [intercept=True]; AIC=8883.653, BIC=8924.466, Time=12.938 seconds\n",
      "Fit ARIMA(3,1,0)x(0,0,2,12) [intercept=True]; AIC=8956.636, BIC=8997.449, Time=2.937 seconds\n",
      "Fit ARIMA(4,1,1)x(0,0,2,12) [intercept=True]; AIC=8956.897, BIC=9009.371, Time=10.246 seconds\n",
      "Fit ARIMA(3,1,2)x(0,0,2,12) [intercept=True]; AIC=8833.150, BIC=8885.624, Time=30.529 seconds\n",
      "Fit ARIMA(3,1,2)x(0,0,1,12) [intercept=True]; AIC=8831.358, BIC=8878.001, Time=9.771 seconds\n",
      "Fit ARIMA(3,1,2)x(0,0,0,12) [intercept=True]; AIC=8832.204, BIC=8873.016, Time=2.971 seconds\n",
      "Fit ARIMA(3,1,2)x(1,0,1,12) [intercept=True]; AIC=8846.301, BIC=8898.775, Time=10.661 seconds\n",
      "Fit ARIMA(3,1,2)x(1,0,0,12) [intercept=True]; AIC=8831.412, BIC=8878.055, Time=10.394 seconds\n",
      "Fit ARIMA(3,1,2)x(1,0,2,12) [intercept=True]; AIC=8872.773, BIC=8931.077, Time=30.009 seconds\n",
      "Fit ARIMA(2,1,2)x(0,0,1,12) [intercept=True]; AIC=8879.503, BIC=8920.316, Time=5.131 seconds\n",
      "Fit ARIMA(4,1,2)x(0,0,1,12) [intercept=True]; AIC=8883.190, BIC=8935.664, Time=10.156 seconds\n",
      "Fit ARIMA(3,1,3)x(0,0,1,12) [intercept=True]; AIC=8947.710, BIC=9000.184, Time=12.542 seconds\n",
      "Fit ARIMA(2,1,1)x(0,0,1,12) [intercept=True]; AIC=8887.032, BIC=8922.014, Time=5.150 seconds\n",
      "Fit ARIMA(2,1,3)x(0,0,1,12) [intercept=True]; AIC=8953.727, BIC=9000.370, Time=7.611 seconds\n",
      "Fit ARIMA(4,1,1)x(0,0,1,12) [intercept=True]; AIC=8961.931, BIC=9008.575, Time=5.357 seconds\n",
      "Fit ARIMA(4,1,3)x(0,0,1,12) [intercept=True]; AIC=8871.184, BIC=8929.488, Time=10.784 seconds\n",
      "Total fit time: 358.302 seconds\n"
     ]
    }
   ],
   "source": [
    "model = pm.auto_arima(df['Close'],\n",
    "                     m = 12,\n",
    "                     start_p = 0,\n",
    "                     seasonal = True,\n",
    "                     start_q = 0,\n",
    "                     max_order = 4,\n",
    "                     test = 'adf',\n",
    "                     error_action = 'ignore',\n",
    "                     suppress_warnings=True,\n",
    "                     stepwise=True,\n",
    "                     trace=True)"
   ]
  },
  {
   "cell_type": "code",
   "execution_count": 204,
   "metadata": {},
   "outputs": [
    {
     "data": {
      "text/html": [
       "<table class=\"simpletable\">\n",
       "<caption>SARIMAX Results</caption>\n",
       "<tr>\n",
       "  <th>Dep. Variable:</th>                   <td>y</td>                <th>  No. Observations:  </th>   <td>2517</td>   \n",
       "</tr>\n",
       "<tr>\n",
       "  <th>Model:</th>           <td>SARIMAX(3, 1, 2)x(0, 0, [1], 12)</td> <th>  Log Likelihood     </th> <td>-4407.679</td>\n",
       "</tr>\n",
       "<tr>\n",
       "  <th>Date:</th>                    <td>Sat, 01 Aug 2020</td>         <th>  AIC                </th> <td>8831.358</td> \n",
       "</tr>\n",
       "<tr>\n",
       "  <th>Time:</th>                        <td>18:17:37</td>             <th>  BIC                </th> <td>8878.001</td> \n",
       "</tr>\n",
       "<tr>\n",
       "  <th>Sample:</th>                          <td>0</td>                <th>  HQIC               </th> <td>8848.286</td> \n",
       "</tr>\n",
       "<tr>\n",
       "  <th></th>                              <td> - 2517</td>             <th>                     </th>     <td> </td>    \n",
       "</tr>\n",
       "<tr>\n",
       "  <th>Covariance Type:</th>                <td>opg</td>               <th>                     </th>     <td> </td>    \n",
       "</tr>\n",
       "</table>\n",
       "<table class=\"simpletable\">\n",
       "<tr>\n",
       "      <td></td>         <th>coef</th>     <th>std err</th>      <th>z</th>      <th>P>|z|</th>  <th>[0.025</th>    <th>0.975]</th>  \n",
       "</tr>\n",
       "<tr>\n",
       "  <th>intercept</th> <td>    0.3357</td> <td>    0.111</td> <td>    3.018</td> <td> 0.003</td> <td>    0.118</td> <td>    0.554</td>\n",
       "</tr>\n",
       "<tr>\n",
       "  <th>ar.L1</th>     <td>   -2.0366</td> <td>    0.014</td> <td> -144.379</td> <td> 0.000</td> <td>   -2.064</td> <td>   -2.009</td>\n",
       "</tr>\n",
       "<tr>\n",
       "  <th>ar.L2</th>     <td>   -1.3598</td> <td>    0.021</td> <td>  -65.703</td> <td> 0.000</td> <td>   -1.400</td> <td>   -1.319</td>\n",
       "</tr>\n",
       "<tr>\n",
       "  <th>ar.L3</th>     <td>   -0.2250</td> <td>    0.009</td> <td>  -24.037</td> <td> 0.000</td> <td>   -0.243</td> <td>   -0.207</td>\n",
       "</tr>\n",
       "<tr>\n",
       "  <th>ma.L1</th>     <td>    1.7677</td> <td>    0.012</td> <td>  146.455</td> <td> 0.000</td> <td>    1.744</td> <td>    1.791</td>\n",
       "</tr>\n",
       "<tr>\n",
       "  <th>ma.L2</th>     <td>    0.8632</td> <td>    0.011</td> <td>   80.403</td> <td> 0.000</td> <td>    0.842</td> <td>    0.884</td>\n",
       "</tr>\n",
       "<tr>\n",
       "  <th>ma.S.L12</th>  <td>    0.0364</td> <td>    0.007</td> <td>    4.873</td> <td> 0.000</td> <td>    0.022</td> <td>    0.051</td>\n",
       "</tr>\n",
       "<tr>\n",
       "  <th>sigma2</th>    <td>    1.9446</td> <td>    0.016</td> <td>  119.060</td> <td> 0.000</td> <td>    1.913</td> <td>    1.977</td>\n",
       "</tr>\n",
       "</table>\n",
       "<table class=\"simpletable\">\n",
       "<tr>\n",
       "  <th>Ljung-Box (Q):</th>          <td>144.39</td> <th>  Jarque-Bera (JB):  </th> <td>75199.86</td>\n",
       "</tr>\n",
       "<tr>\n",
       "  <th>Prob(Q):</th>                 <td>0.00</td>  <th>  Prob(JB):          </th>   <td>0.00</td>  \n",
       "</tr>\n",
       "<tr>\n",
       "  <th>Heteroskedasticity (H):</th>  <td>36.59</td> <th>  Skew:              </th>   <td>-0.92</td> \n",
       "</tr>\n",
       "<tr>\n",
       "  <th>Prob(H) (two-sided):</th>     <td>0.00</td>  <th>  Kurtosis:          </th>   <td>29.72</td> \n",
       "</tr>\n",
       "</table><br/><br/>Warnings:<br/>[1] Covariance matrix calculated using the outer product of gradients (complex-step)."
      ],
      "text/plain": [
       "<class 'statsmodels.iolib.summary.Summary'>\n",
       "\"\"\"\n",
       "                                      SARIMAX Results                                       \n",
       "============================================================================================\n",
       "Dep. Variable:                                    y   No. Observations:                 2517\n",
       "Model:             SARIMAX(3, 1, 2)x(0, 0, [1], 12)   Log Likelihood               -4407.679\n",
       "Date:                              Sat, 01 Aug 2020   AIC                           8831.358\n",
       "Time:                                      18:17:37   BIC                           8878.001\n",
       "Sample:                                           0   HQIC                          8848.286\n",
       "                                             - 2517                                         \n",
       "Covariance Type:                                opg                                         \n",
       "==============================================================================\n",
       "                 coef    std err          z      P>|z|      [0.025      0.975]\n",
       "------------------------------------------------------------------------------\n",
       "intercept      0.3357      0.111      3.018      0.003       0.118       0.554\n",
       "ar.L1         -2.0366      0.014   -144.379      0.000      -2.064      -2.009\n",
       "ar.L2         -1.3598      0.021    -65.703      0.000      -1.400      -1.319\n",
       "ar.L3         -0.2250      0.009    -24.037      0.000      -0.243      -0.207\n",
       "ma.L1          1.7677      0.012    146.455      0.000       1.744       1.791\n",
       "ma.L2          0.8632      0.011     80.403      0.000       0.842       0.884\n",
       "ma.S.L12       0.0364      0.007      4.873      0.000       0.022       0.051\n",
       "sigma2         1.9446      0.016    119.060      0.000       1.913       1.977\n",
       "===================================================================================\n",
       "Ljung-Box (Q):                      144.39   Jarque-Bera (JB):             75199.86\n",
       "Prob(Q):                              0.00   Prob(JB):                         0.00\n",
       "Heteroskedasticity (H):              36.59   Skew:                            -0.92\n",
       "Prob(H) (two-sided):                  0.00   Kurtosis:                        29.72\n",
       "===================================================================================\n",
       "\n",
       "Warnings:\n",
       "[1] Covariance matrix calculated using the outer product of gradients (complex-step).\n",
       "\"\"\""
      ]
     },
     "execution_count": 204,
     "metadata": {},
     "output_type": "execute_result"
    }
   ],
   "source": [
    "model.summary()"
   ]
  },
  {
   "cell_type": "markdown",
   "metadata": {},
   "source": [
    "- Auto Arima selected SARIMAX as the best model"
   ]
  },
  {
   "cell_type": "code",
   "execution_count": 207,
   "metadata": {},
   "outputs": [
    {
     "name": "stdout",
     "output_type": "stream",
     "text": [
      "2013\n"
     ]
    }
   ],
   "source": [
    "# splitting data\n",
    "\n",
    "test_size = 0.2\n",
    "train_num = int(len(df)*(1-test_size))\n",
    "print(train_num)\n",
    "\n",
    "train = df.iloc[:train_num]\n",
    "test = df.iloc[train_num:]"
   ]
  },
  {
   "cell_type": "code",
   "execution_count": 170,
   "metadata": {},
   "outputs": [
    {
     "data": {
      "image/png": "[encoded data removed]",
      "text/plain": [
       "<Figure size 1152x576 with 1 Axes>"
      ]
     },
     "metadata": {
      "needs_background": "light"
     },
     "output_type": "display_data"
    }
   ],
   "source": [
    "# plotting the data\n",
    "plt.figure(figsize=(16,8))\n",
    "\n",
    "plt.plot(train['Close'])\n",
    "plt.plot(test['Close'])\n",
    "\n",
    "plt.legend(['Train', 'Test'])\n",
    "plt.xlabel('Date')\n",
    "plt.ylabel('Close')\n",
    "plt.show()"
   ]
  },
  {
   "cell_type": "code",
   "execution_count": 208,
   "metadata": {},
   "outputs": [
    {
     "data": {
      "text/plain": [
       "ARIMA(order=(3, 1, 2), seasonal_order=(0, 0, 1, 12), suppress_warnings=True)"
      ]
     },
     "execution_count": 208,
     "metadata": {},
     "output_type": "execute_result"
    }
   ],
   "source": [
    "# fitting the model\n",
    "model.fit(train['Close'])"
   ]
  },
  {
   "cell_type": "code",
   "execution_count": 209,
   "metadata": {},
   "outputs": [],
   "source": [
    "# forecast\n",
    "forecast = model.predict(n_periods = len(test), return_conf_int = True) \n",
    "\n",
    "lower = forecast[1][:,0]\n",
    "upper = forecast[1][:,1]"
   ]
  },
  {
   "cell_type": "code",
   "execution_count": 210,
   "metadata": {},
   "outputs": [],
   "source": [
    "forecast_df = pd.DataFrame(forecast[0], columns=['forecast'], index = test.index)\n",
    "forecast_df['original'] = test['Close']\n",
    "forecast_df['lower'] = lower\n",
    "forecast_df['upper'] = upper"
   ]
  },
  {
   "cell_type": "code",
   "execution_count": 211,
   "metadata": {},
   "outputs": [
    {
     "data": {
      "text/plain": [
       "<matplotlib.axes._subplots.AxesSubplot at 0x220864f9cc0>"
      ]
     },
     "execution_count": 211,
     "metadata": {},
     "output_type": "execute_result"
    },
    {
     "data": {
      "image/png": "[encoded data removed]",
      "text/plain": [
       "<Figure size 720x576 with 1 Axes>"
      ]
     },
     "metadata": {
      "needs_background": "light"
     },
     "output_type": "display_data"
    }
   ],
   "source": [
    "pd.concat([train['Close'], forecast_df['original'], forecast_df['forecast']], axis = 1).plot()"
   ]
  },
  {
   "cell_type": "code",
   "execution_count": 212,
   "metadata": {},
   "outputs": [
    {
     "name": "stdout",
     "output_type": "stream",
     "text": [
      "RMSE ARIMA:  35.43885003395963\n"
     ]
    }
   ],
   "source": [
    "# check rmse\n",
    "\n",
    "print('RMSE ARIMA: ', metrics.mean_squared_error(forecast_df['original'], forecast_df['forecast'], squared = False))\n"
   ]
  },
  {
   "cell_type": "markdown",
   "metadata": {},
   "source": [
    "Auto ARIMA on Weekly trend"
   ]
  },
  {
   "cell_type": "code",
   "execution_count": 223,
   "metadata": {},
   "outputs": [],
   "source": [
    "df.index = pd.to_datetime(df.index)"
   ]
  },
  {
   "cell_type": "code",
   "execution_count": 233,
   "metadata": {},
   "outputs": [
    {
     "data": {
      "text/html": [
       "<div>\n",
       "<style scoped>\n",
       "    .dataframe tbody tr th:only-of-type {\n",
       "        vertical-align: middle;\n",
       "    }\n",
       "\n",
       "    .dataframe tbody tr th {\n",
       "        vertical-align: top;\n",
       "    }\n",
       "\n",
       "    .dataframe thead th {\n",
       "        text-align: right;\n",
       "    }\n",
       "</style>\n",
       "<table border=\"1\" class=\"dataframe\">\n",
       "  <thead>\n",
       "    <tr style=\"text-align: right;\">\n",
       "      <th></th>\n",
       "      <th>Open</th>\n",
       "      <th>High</th>\n",
       "      <th>Low</th>\n",
       "      <th>Close</th>\n",
       "      <th>Volume</th>\n",
       "    </tr>\n",
       "    <tr>\n",
       "      <th>Date</th>\n",
       "      <th></th>\n",
       "      <th></th>\n",
       "      <th></th>\n",
       "      <th></th>\n",
       "      <th></th>\n",
       "    </tr>\n",
       "  </thead>\n",
       "  <tbody>\n",
       "    <tr>\n",
       "      <th>2010-08-08</th>\n",
       "      <td>20.384</td>\n",
       "      <td>20.558</td>\n",
       "      <td>20.130</td>\n",
       "      <td>20.4040</td>\n",
       "      <td>62271680.0</td>\n",
       "    </tr>\n",
       "    <tr>\n",
       "      <th>2010-08-15</th>\n",
       "      <td>19.644</td>\n",
       "      <td>19.802</td>\n",
       "      <td>19.496</td>\n",
       "      <td>19.6600</td>\n",
       "      <td>67321020.0</td>\n",
       "    </tr>\n",
       "    <tr>\n",
       "      <th>2010-08-22</th>\n",
       "      <td>19.464</td>\n",
       "      <td>19.622</td>\n",
       "      <td>19.316</td>\n",
       "      <td>19.4660</td>\n",
       "      <td>48853180.0</td>\n",
       "    </tr>\n",
       "    <tr>\n",
       "      <th>2010-08-29</th>\n",
       "      <td>19.140</td>\n",
       "      <td>19.288</td>\n",
       "      <td>18.966</td>\n",
       "      <td>19.0880</td>\n",
       "      <td>55123000.0</td>\n",
       "    </tr>\n",
       "    <tr>\n",
       "      <th>2010-09-05</th>\n",
       "      <td>18.922</td>\n",
       "      <td>19.046</td>\n",
       "      <td>18.802</td>\n",
       "      <td>18.9380</td>\n",
       "      <td>57957960.0</td>\n",
       "    </tr>\n",
       "    <tr>\n",
       "      <th>...</th>\n",
       "      <td>...</td>\n",
       "      <td>...</td>\n",
       "      <td>...</td>\n",
       "      <td>...</td>\n",
       "      <td>...</td>\n",
       "    </tr>\n",
       "    <tr>\n",
       "      <th>2020-07-05</th>\n",
       "      <td>200.620</td>\n",
       "      <td>204.325</td>\n",
       "      <td>199.515</td>\n",
       "      <td>203.2275</td>\n",
       "      <td>30597225.0</td>\n",
       "    </tr>\n",
       "    <tr>\n",
       "      <th>2020-07-12</th>\n",
       "      <td>211.860</td>\n",
       "      <td>213.904</td>\n",
       "      <td>209.464</td>\n",
       "      <td>211.9540</td>\n",
       "      <td>31679520.0</td>\n",
       "    </tr>\n",
       "    <tr>\n",
       "      <th>2020-07-19</th>\n",
       "      <td>208.008</td>\n",
       "      <td>209.344</td>\n",
       "      <td>203.452</td>\n",
       "      <td>206.0520</td>\n",
       "      <td>33896560.0</td>\n",
       "    </tr>\n",
       "    <tr>\n",
       "      <th>2020-07-26</th>\n",
       "      <td>207.094</td>\n",
       "      <td>210.464</td>\n",
       "      <td>203.818</td>\n",
       "      <td>207.1880</td>\n",
       "      <td>46376060.0</td>\n",
       "    </tr>\n",
       "    <tr>\n",
       "      <th>2020-08-02</th>\n",
       "      <td>202.145</td>\n",
       "      <td>204.445</td>\n",
       "      <td>201.045</td>\n",
       "      <td>203.4575</td>\n",
       "      <td>24504425.0</td>\n",
       "    </tr>\n",
       "  </tbody>\n",
       "</table>\n",
       "<p>522 rows × 5 columns</p>\n",
       "</div>"
      ],
      "text/plain": [
       "               Open     High      Low     Close      Volume\n",
       "Date                                                       \n",
       "2010-08-08   20.384   20.558   20.130   20.4040  62271680.0\n",
       "2010-08-15   19.644   19.802   19.496   19.6600  67321020.0\n",
       "2010-08-22   19.464   19.622   19.316   19.4660  48853180.0\n",
       "2010-08-29   19.140   19.288   18.966   19.0880  55123000.0\n",
       "2010-09-05   18.922   19.046   18.802   18.9380  57957960.0\n",
       "...             ...      ...      ...       ...         ...\n",
       "2020-07-05  200.620  204.325  199.515  203.2275  30597225.0\n",
       "2020-07-12  211.860  213.904  209.464  211.9540  31679520.0\n",
       "2020-07-19  208.008  209.344  203.452  206.0520  33896560.0\n",
       "2020-07-26  207.094  210.464  203.818  207.1880  46376060.0\n",
       "2020-08-02  202.145  204.445  201.045  203.4575  24504425.0\n",
       "\n",
       "[522 rows x 5 columns]"
      ]
     },
     "execution_count": 233,
     "metadata": {},
     "output_type": "execute_result"
    }
   ],
   "source": [
    "df_weekly = df.resample('W').mean()\n",
    "df_weekly"
   ]
  },
  {
   "cell_type": "code",
   "execution_count": 237,
   "metadata": {},
   "outputs": [],
   "source": [
    "# splitting\n",
    "train_num = int(len(df_weekly)*(1-test_size))\n",
    "\n",
    "trainw = df_weekly.iloc[:train_num]\n",
    "testw = df_weekly.iloc[train_num:]"
   ]
  },
  {
   "cell_type": "code",
   "execution_count": 239,
   "metadata": {},
   "outputs": [
    {
     "data": {
      "image/png": "[encoded data removed]",
      "text/plain": [
       "<Figure size 720x576 with 1 Axes>"
      ]
     },
     "metadata": {
      "needs_background": "light"
     },
     "output_type": "display_data"
    }
   ],
   "source": [
    "# visualising\n",
    "\n",
    "pd.concat([trainw['Close'], testw['Close']], axis = 1).plot()\n",
    "plt.legend(['Train','Test'])\n",
    "plt.show()"
   ]
  },
  {
   "cell_type": "code",
   "execution_count": 250,
   "metadata": {},
   "outputs": [
    {
     "name": "stdout",
     "output_type": "stream",
     "text": [
      "Performing stepwise search to minimize aic\n",
      "Fit ARIMA(0,1,0)x(0,0,0,0) [intercept=True]; AIC=2259.393, BIC=2267.904, Time=0.013 seconds\n",
      "Fit ARIMA(1,1,0)x(0,0,0,0) [intercept=True]; AIC=2242.237, BIC=2255.004, Time=0.048 seconds\n",
      "Fit ARIMA(0,1,1)x(0,0,0,0) [intercept=True]; AIC=2244.265, BIC=2257.032, Time=0.060 seconds\n",
      "Fit ARIMA(0,1,0)x(0,0,0,0) [intercept=False]; AIC=2271.674, BIC=2275.930, Time=0.011 seconds\n",
      "Fit ARIMA(2,1,0)x(0,0,0,0) [intercept=True]; AIC=2243.118, BIC=2260.141, Time=0.088 seconds\n",
      "Fit ARIMA(1,1,1)x(0,0,0,0) [intercept=True]; AIC=2243.435, BIC=2260.458, Time=0.097 seconds\n",
      "Fit ARIMA(2,1,1)x(0,0,0,0) [intercept=True]; AIC=2245.116, BIC=2266.394, Time=0.166 seconds\n",
      "Total fit time: 0.489 seconds\n"
     ]
    }
   ],
   "source": [
    "# Auto Arima\n",
    "\n",
    "model = pm.auto_arima(df_weekly['Close'],\n",
    "                     m = 12,\n",
    "                     start_p = 0,\n",
    "                     seasonal = False,\n",
    "                     start_q = 0,\n",
    "                     max_order = 4,\n",
    "                     test = 'adf',\n",
    "                     error_action = 'ignore',\n",
    "                     suppress_warnings=True,\n",
    "                     stepwise=True,\n",
    "                     trace=True)"
   ]
  },
  {
   "cell_type": "code",
   "execution_count": 251,
   "metadata": {},
   "outputs": [
    {
     "data": {
      "text/html": [
       "<table class=\"simpletable\">\n",
       "<caption>SARIMAX Results</caption>\n",
       "<tr>\n",
       "  <th>Dep. Variable:</th>           <td>y</td>        <th>  No. Observations:  </th>    <td>522</td>   \n",
       "</tr>\n",
       "<tr>\n",
       "  <th>Model:</th>           <td>SARIMAX(1, 1, 0)</td> <th>  Log Likelihood     </th> <td>-1118.119</td>\n",
       "</tr>\n",
       "<tr>\n",
       "  <th>Date:</th>            <td>Sat, 01 Aug 2020</td> <th>  AIC                </th> <td>2242.237</td> \n",
       "</tr>\n",
       "<tr>\n",
       "  <th>Time:</th>                <td>18:29:06</td>     <th>  BIC                </th> <td>2255.004</td> \n",
       "</tr>\n",
       "<tr>\n",
       "  <th>Sample:</th>                  <td>0</td>        <th>  HQIC               </th> <td>2247.238</td> \n",
       "</tr>\n",
       "<tr>\n",
       "  <th></th>                      <td> - 522</td>      <th>                     </th>     <td> </td>    \n",
       "</tr>\n",
       "<tr>\n",
       "  <th>Covariance Type:</th>        <td>opg</td>       <th>                     </th>     <td> </td>    \n",
       "</tr>\n",
       "</table>\n",
       "<table class=\"simpletable\">\n",
       "<tr>\n",
       "      <td></td>         <th>coef</th>     <th>std err</th>      <th>z</th>      <th>P>|z|</th>  <th>[0.025</th>    <th>0.975]</th>  \n",
       "</tr>\n",
       "<tr>\n",
       "  <th>intercept</th> <td>    0.2825</td> <td>    0.095</td> <td>    2.973</td> <td> 0.003</td> <td>    0.096</td> <td>    0.469</td>\n",
       "</tr>\n",
       "<tr>\n",
       "  <th>ar.L1</th>     <td>    0.1906</td> <td>    0.018</td> <td>   10.803</td> <td> 0.000</td> <td>    0.156</td> <td>    0.225</td>\n",
       "</tr>\n",
       "<tr>\n",
       "  <th>sigma2</th>    <td>    4.2812</td> <td>    0.082</td> <td>   52.366</td> <td> 0.000</td> <td>    4.121</td> <td>    4.441</td>\n",
       "</tr>\n",
       "</table>\n",
       "<table class=\"simpletable\">\n",
       "<tr>\n",
       "  <th>Ljung-Box (Q):</th>          <td>96.83</td> <th>  Jarque-Bera (JB):  </th> <td>10040.32</td>\n",
       "</tr>\n",
       "<tr>\n",
       "  <th>Prob(Q):</th>                <td>0.00</td>  <th>  Prob(JB):          </th>   <td>0.00</td>  \n",
       "</tr>\n",
       "<tr>\n",
       "  <th>Heteroskedasticity (H):</th> <td>27.05</td> <th>  Skew:              </th>   <td>-1.43</td> \n",
       "</tr>\n",
       "<tr>\n",
       "  <th>Prob(H) (two-sided):</th>    <td>0.00</td>  <th>  Kurtosis:          </th>   <td>24.31</td> \n",
       "</tr>\n",
       "</table><br/><br/>Warnings:<br/>[1] Covariance matrix calculated using the outer product of gradients (complex-step)."
      ],
      "text/plain": [
       "<class 'statsmodels.iolib.summary.Summary'>\n",
       "\"\"\"\n",
       "                               SARIMAX Results                                \n",
       "==============================================================================\n",
       "Dep. Variable:                      y   No. Observations:                  522\n",
       "Model:               SARIMAX(1, 1, 0)   Log Likelihood               -1118.119\n",
       "Date:                Sat, 01 Aug 2020   AIC                           2242.237\n",
       "Time:                        18:29:06   BIC                           2255.004\n",
       "Sample:                             0   HQIC                          2247.238\n",
       "                                - 522                                         \n",
       "Covariance Type:                  opg                                         \n",
       "==============================================================================\n",
       "                 coef    std err          z      P>|z|      [0.025      0.975]\n",
       "------------------------------------------------------------------------------\n",
       "intercept      0.2825      0.095      2.973      0.003       0.096       0.469\n",
       "ar.L1          0.1906      0.018     10.803      0.000       0.156       0.225\n",
       "sigma2         4.2812      0.082     52.366      0.000       4.121       4.441\n",
       "===================================================================================\n",
       "Ljung-Box (Q):                       96.83   Jarque-Bera (JB):             10040.32\n",
       "Prob(Q):                              0.00   Prob(JB):                         0.00\n",
       "Heteroskedasticity (H):              27.05   Skew:                            -1.43\n",
       "Prob(H) (two-sided):                  0.00   Kurtosis:                        24.31\n",
       "===================================================================================\n",
       "\n",
       "Warnings:\n",
       "[1] Covariance matrix calculated using the outer product of gradients (complex-step).\n",
       "\"\"\""
      ]
     },
     "execution_count": 251,
     "metadata": {},
     "output_type": "execute_result"
    }
   ],
   "source": [
    "model.summary()"
   ]
  },
  {
   "cell_type": "code",
   "execution_count": 252,
   "metadata": {},
   "outputs": [
    {
     "data": {
      "text/plain": [
       "ARIMA(order=(1, 1, 0), suppress_warnings=True)"
      ]
     },
     "execution_count": 252,
     "metadata": {},
     "output_type": "execute_result"
    }
   ],
   "source": [
    "model.fit(trainw['Close'])"
   ]
  },
  {
   "cell_type": "code",
   "execution_count": 253,
   "metadata": {},
   "outputs": [],
   "source": [
    "# forecast\n",
    "forecast = model.predict(n_periods = len(testw), return_conf_int = True) \n",
    "\n",
    "lower = forecast[1][:,0]\n",
    "upper = forecast[1][:,1]"
   ]
  },
  {
   "cell_type": "code",
   "execution_count": 254,
   "metadata": {},
   "outputs": [],
   "source": [
    "forecast_df = pd.DataFrame(forecast[0], columns=['forecast'], index = testw.index)\n",
    "forecast_df['original'] = testw['Close']\n",
    "forecast_df['lower'] = lower\n",
    "forecast_df['upper'] = upper"
   ]
  },
  {
   "cell_type": "code",
   "execution_count": 255,
   "metadata": {},
   "outputs": [
    {
     "data": {
      "text/plain": [
       "<matplotlib.legend.Legend at 0x2208cf51048>"
      ]
     },
     "execution_count": 255,
     "metadata": {},
     "output_type": "execute_result"
    },
    {
     "data": {
      "image/png": "[encoded data removed]",
      "text/plain": [
       "<Figure size 720x576 with 1 Axes>"
      ]
     },
     "metadata": {
      "needs_background": "light"
     },
     "output_type": "display_data"
    }
   ],
   "source": [
    "pd.concat([trainw['Close'], forecast_df['original'], forecast_df['forecast']], axis = 1).plot()\n",
    "plt.legend(['train', 'original', 'prediction'])"
   ]
  },
  {
   "cell_type": "code",
   "execution_count": 257,
   "metadata": {},
   "outputs": [
    {
     "name": "stdout",
     "output_type": "stream",
     "text": [
      "RMSE weekly ARIMA:  32.67285020032801\n"
     ]
    }
   ],
   "source": [
    "print('RMSE weekly ARIMA: ', metrics.mean_squared_error(testw['Close'],forecast_df['forecast'], squared=False))"
   ]
  },
  {
   "cell_type": "markdown",
   "metadata": {},
   "source": [
    "Monthly ARIMA"
   ]
  },
  {
   "cell_type": "code",
   "execution_count": 258,
   "metadata": {},
   "outputs": [],
   "source": [
    "df_monthly = df.resample('M').mean()"
   ]
  },
  {
   "cell_type": "code",
   "execution_count": 259,
   "metadata": {},
   "outputs": [
    {
     "name": "stdout",
     "output_type": "stream",
     "text": [
      "Performing stepwise search to minimize aic\n",
      "Fit ARIMA(0,1,0)x(0,0,0,0) [intercept=True]; AIC=688.676, BIC=694.234, Time=0.007 seconds\n",
      "Fit ARIMA(1,1,0)x(0,0,0,0) [intercept=True]; AIC=690.585, BIC=698.922, Time=0.023 seconds\n",
      "Fit ARIMA(0,1,1)x(0,0,0,0) [intercept=True]; AIC=690.597, BIC=698.934, Time=0.043 seconds\n",
      "Fit ARIMA(0,1,0)x(0,0,0,0) [intercept=False]; AIC=701.707, BIC=704.486, Time=0.006 seconds\n",
      "Fit ARIMA(1,1,1)x(0,0,0,0) [intercept=True]; AIC=684.313, BIC=695.429, Time=0.148 seconds\n",
      "Fit ARIMA(2,1,1)x(0,0,0,0) [intercept=True]; AIC=684.702, BIC=698.597, Time=0.152 seconds\n",
      "Fit ARIMA(1,1,2)x(0,0,0,0) [intercept=True]; AIC=684.358, BIC=698.253, Time=0.248 seconds\n",
      "Fit ARIMA(0,1,2)x(0,0,0,0) [intercept=True]; AIC=691.743, BIC=702.859, Time=0.056 seconds\n",
      "Fit ARIMA(2,1,0)x(0,0,0,0) [intercept=True]; AIC=691.878, BIC=702.994, Time=0.039 seconds\n",
      "Fit ARIMA(2,1,2)x(0,0,0,0) [intercept=True]; AIC=689.889, BIC=706.564, Time=0.348 seconds\n",
      "Total fit time: 1.079 seconds\n"
     ]
    }
   ],
   "source": [
    "# Auto Arima\n",
    "\n",
    "model = pm.auto_arima(df_monthly['Close'],\n",
    "                     m = 12,\n",
    "                     start_p = 0,\n",
    "                     seasonal = False,\n",
    "                     start_q = 0,\n",
    "                     max_order = 4,\n",
    "                     test = 'adf',\n",
    "                     error_action = 'ignore',\n",
    "                     suppress_warnings=True,\n",
    "                     stepwise=True,\n",
    "                     trace=True)"
   ]
  },
  {
   "cell_type": "code",
   "execution_count": 260,
   "metadata": {},
   "outputs": [
    {
     "name": "stdout",
     "output_type": "stream",
     "text": [
      "96\n"
     ]
    }
   ],
   "source": [
    "# splitting\n",
    "train_num = int(len(df_monthly)*(1-test_size))\n",
    "print(train_num)\n",
    "\n",
    "train = df_monthly.iloc[:train_num]\n",
    "test = df_monthly.iloc[train_num:]"
   ]
  },
  {
   "cell_type": "code",
   "execution_count": 261,
   "metadata": {},
   "outputs": [
    {
     "data": {
      "text/plain": [
       "ARIMA(order=(1, 1, 1), suppress_warnings=True)"
      ]
     },
     "execution_count": 261,
     "metadata": {},
     "output_type": "execute_result"
    }
   ],
   "source": [
    "model.fit(train['Close'])"
   ]
  },
  {
   "cell_type": "code",
   "execution_count": 262,
   "metadata": {},
   "outputs": [],
   "source": [
    "# forecast\n",
    "forecast = model.predict(n_periods = len(test), return_conf_int = True) \n",
    "\n",
    "lower = forecast[1][:,0]\n",
    "upper = forecast[1][:,1]"
   ]
  },
  {
   "cell_type": "code",
   "execution_count": 265,
   "metadata": {},
   "outputs": [],
   "source": [
    "forecast_df = pd.DataFrame(forecast[0], columns=['forecast'], index = test.index)\n",
    "forecast_df['original'] = test['Close']\n",
    "forecast_df['lower'] = lower\n",
    "forecast_df['upper'] = upper"
   ]
  },
  {
   "cell_type": "code",
   "execution_count": 266,
   "metadata": {},
   "outputs": [
    {
     "data": {
      "text/plain": [
       "<matplotlib.legend.Legend at 0x2208b8b6240>"
      ]
     },
     "execution_count": 266,
     "metadata": {},
     "output_type": "execute_result"
    },
    {
     "data": {
      "image/png": "[encoded data removed]",
      "text/plain": [
       "<Figure size 720x576 with 1 Axes>"
      ]
     },
     "metadata": {
      "needs_background": "light"
     },
     "output_type": "display_data"
    }
   ],
   "source": [
    "pd.concat([train['Close'], forecast_df['original'], forecast_df['forecast']], axis = 1).plot()\n",
    "plt.legend(['train', 'original', 'prediction'])"
   ]
  },
  {
   "cell_type": "markdown",
   "metadata": {},
   "source": [
    "Arima not giving good results till now"
   ]
  },
  {
   "cell_type": "code",
   "execution_count": null,
   "metadata": {},
   "outputs": [],
   "source": []
  },
  {
   "cell_type": "code",
   "execution_count": null,
   "metadata": {},
   "outputs": [],
   "source": []
  }
 ],
 "metadata": {
  "kernelspec": {
   "display_name": "Python 3",
   "language": "python",
   "name": "python3"
  },
  "language_info": {
   "codemirror_mode": {
    "name": "ipython",
    "version": 3
   },
   "file_extension": ".py",
   "mimetype": "text/x-python",
   "name": "python",
   "nbconvert_exporter": "python",
   "pygments_lexer": "ipython3",
   "version": "3.6.5"
  }
 },
 "nbformat": 4,
 "nbformat_minor": 4
}
